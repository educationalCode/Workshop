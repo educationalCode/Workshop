{
 "cells": [
  {
   "cell_type": "markdown",
   "id": "88f7a622-e536-44eb-a09b-0569201fc8d5",
   "metadata": {
    "slideshow": {
     "slide_type": "slide"
    }
   },
   "source": [
    "# Welcome to a Brief Introduction!"
   ]
  },
  {
   "cell_type": "markdown",
   "id": "ad2e485f-f17f-4127-a1b0-86d82f80f6a0",
   "metadata": {
    "slideshow": {
     "slide_type": "slide"
    },
    "tags": []
   },
   "source": [
    "### Schedule and Goals:\n",
    "- Ask ourselves: \"Why python?\"\n",
    "- Introduce the base python programming language\n",
    "    - Syntax\n",
    "    - Data structures\n",
    "    - Operators\n",
    "    - Control logic\n",
    "    - Functions\n",
    "    - Classes\n",
    "    - Misc.\n",
    "- Discuss useful libraries for working with data\n",
    "    - Data Wrangling (Pandas & Numpy)\n",
    "    - Data Visualization (Matplotlib, Seaborn)\n",
    "    - Statistics (Scipy.stats, Numpy, math, statistics)"
   ]
  },
  {
   "cell_type": "markdown",
   "id": "cafedee3-a33b-4d58-8193-aeb462564d4e",
   "metadata": {
    "slideshow": {
     "slide_type": "slide"
    }
   },
   "source": [
    "- What to do when it doesn't work\n",
    "    - Resources\n",
    "    - My method\n",
    "- Q&A"
   ]
  },
  {
   "cell_type": "markdown",
   "id": "61d50f7a-8a0d-4eab-80de-035eee6cea4a",
   "metadata": {
    "slideshow": {
     "slide_type": "slide"
    }
   },
   "source": [
    "## Why Python?"
   ]
  },
  {
   "cell_type": "markdown",
   "id": "1533dac8-f6e3-42f1-82fe-4eb2ffef8158",
   "metadata": {
    "slideshow": {
     "slide_type": "slide"
    }
   },
   "source": [
    " ...."
   ]
  },
  {
   "cell_type": "markdown",
   "id": "f5747662-244e-40c5-9a02-e39b19a40860",
   "metadata": {
    "slideshow": {
     "slide_type": "slide"
    },
    "tags": []
   },
   "source": [
    "#### *What Python?*"
   ]
  },
  {
   "cell_type": "markdown",
   "id": "b3f88ee8-e485-4054-900d-6c8205846d7b",
   "metadata": {
    "slideshow": {
     "slide_type": "slide"
    }
   },
   "source": [
    "Python is a general purpose language that has gained traction in data. It is relatively easy-to-learn, and has wide community support."
   ]
  },
  {
   "cell_type": "markdown",
   "id": "9fd9185f-aad7-481e-80cc-4325c2cb9b42",
   "metadata": {
    "slideshow": {
     "slide_type": "slide"
    }
   },
   "source": [
    "### Considerations: \n",
    "- Open source vs. Proprietary\n",
    "    - Free\n",
    "    - .....but anyone can make changes (sort of)\n",
    "    - No direct customer support\n",
    "    - BUT..... VERY large community with many already-answered questions"
   ]
  },
  {
   "cell_type": "markdown",
   "id": "696b52a1-7508-46dc-94cc-a4f2ac27ba84",
   "metadata": {
    "slideshow": {
     "slide_type": "slide"
    }
   },
   "source": [
    "- Capabilities\n",
    "    - Can perform most of the same operations as other data-tools being used\n",
    "    - Is able to leverage open source community to import additional functionality (unlike proprietary)\n",
    "        - Very well supported data science ecosystem\n",
    "    - Aids in documentation and centralization of coding using tools like git\n",
    "- Adoption\n",
    "    - Is a whole new coding language. Worth having whole team learn a new language from scratch?\n",
    "    - In most senses, is not revolutionary in terms of what it can do in IR"
   ]
  },
  {
   "cell_type": "markdown",
   "id": "bf880e9f-425b-4d59-af40-5bfb756ade9a",
   "metadata": {
    "slideshow": {
     "slide_type": "slide"
    }
   },
   "source": [
    "# Intro to Base Python"
   ]
  },
  {
   "cell_type": "markdown",
   "id": "143c7da6-7009-464f-a53c-3ecaa79917c3",
   "metadata": {
    "slideshow": {
     "slide_type": "slide"
    }
   },
   "source": [
    "#### Syntax Rules:\n",
    "1. Python is case sensitive\n",
    "2. Path specification requires forward slashes ( / )\n",
    "3. There is no command terminator at the end of each line\n",
    "4. Semicolons can be used to write more than one command on a line"
   ]
  },
  {
   "cell_type": "markdown",
   "id": "7b65a863-ee5a-486c-ae05-b9d53875144c",
   "metadata": {
    "slideshow": {
     "slide_type": "slide"
    }
   },
   "source": [
    "5. Strings are defined using '', \"\", ''' ''', or \"\"\" \"\"\"\n",
    "6. Comments begin with #\n",
    "7. To write a multiline command, use a backslash between lines ( \\ ). Expressions contained in [], {}, or () do not need backslashes between multiple lines\n",
    "8. Blank lines are ignored\n",
    "9. ***CODE BLOCKS ARE INDICATED USING INDENTATION***"
   ]
  },
  {
   "cell_type": "code",
   "execution_count": null,
   "id": "c58c3b85-389f-4639-bd77-9bb93c2ade2e",
   "metadata": {
    "slideshow": {
     "slide_type": "slide"
    }
   },
   "outputs": [],
   "source": [
    "a = 5; print(a)"
   ]
  },
  {
   "cell_type": "markdown",
   "id": "58de44ad-196f-411d-a704-39303517f8b8",
   "metadata": {
    "slideshow": {
     "slide_type": "slide"
    }
   },
   "source": [
    "Notice that we assigned the value 5 to the variable a using the = operator"
   ]
  },
  {
   "cell_type": "code",
   "execution_count": null,
   "id": "8a9212dc-01f5-4dbd-865b-93687a00c55b",
   "metadata": {
    "slideshow": {
     "slide_type": "slide"
    }
   },
   "outputs": [],
   "source": [
    "# Watch how this prints three times:\n",
    "print('hello world!') ; print(\"HELLO WORLD\") ; print('''HeLloWorlD''')"
   ]
  },
  {
   "cell_type": "code",
   "execution_count": null,
   "id": "f14a819b-fa7e-4c2b-9454-14749ce7a742",
   "metadata": {
    "slideshow": {
     "slide_type": "slide"
    }
   },
   "outputs": [],
   "source": [
    "# Exercise 1: Assign a value to a variable and then print it using the print() function\n",
    "\n",
    "temp=13\n",
    "print(temp)\n",
    "\n"
   ]
  },
  {
   "cell_type": "markdown",
   "id": "5aae765a-1eed-47e9-a378-2a6af858919c",
   "metadata": {
    "slideshow": {
     "slide_type": "slide"
    }
   },
   "source": [
    "#### Data types and Data Structures:\n",
    "1. Lists\n",
    "2. Dictionaries\n",
    "3. Tuples\n",
    "4. Sets"
   ]
  },
  {
   "cell_type": "code",
   "execution_count": null,
   "id": "305c4583-19c0-41f7-8b76-d9dfcb338a3c",
   "metadata": {
    "slideshow": {
     "slide_type": "slide"
    }
   },
   "outputs": [],
   "source": [
    "# Creating a list\n",
    "example_list= [1,6,\"Q\",a]\n",
    "print(example_list)"
   ]
  },
  {
   "cell_type": "code",
   "execution_count": null,
   "id": "db049d0d-79d8-443d-a01f-971551400410",
   "metadata": {
    "slideshow": {
     "slide_type": "slide"
    }
   },
   "outputs": [],
   "source": [
    "# Index slicing\n",
    "print(example_list)\n",
    "print(example_list[1:3])"
   ]
  },
  {
   "cell_type": "code",
   "execution_count": null,
   "id": "0470bb59-10d2-44d3-9039-f47a1446755e",
   "metadata": {
    "slideshow": {
     "slide_type": "slide"
    }
   },
   "outputs": [],
   "source": [
    "# Negative indexing\n",
    "print(example_list)\n",
    "\n",
    "example_list[-3:-1:1]"
   ]
  },
  {
   "cell_type": "code",
   "execution_count": null,
   "id": "a88bf12b-9b03-4d10-b9ca-9bc2847f88ea",
   "metadata": {
    "slideshow": {
     "slide_type": "slide"
    }
   },
   "outputs": [],
   "source": [
    "# Appending more elements to the list.\n",
    "# Note that running this cell multiple times will append multiple copies to the end of the list.\n",
    "example_list = example_list + [2,3,5]\n",
    "print(example_list)"
   ]
  },
  {
   "cell_type": "code",
   "execution_count": null,
   "id": "ac812a97-348e-4161-8955-8a3a18468679",
   "metadata": {
    "slideshow": {
     "slide_type": "slide"
    }
   },
   "outputs": [],
   "source": [
    "# Printing every 3rd element (the format is start:end:step_size)\n",
    "print(example_list)\n",
    "example_list[2::3]"
   ]
  },
  {
   "cell_type": "code",
   "execution_count": null,
   "id": "5bfbb9fd-d619-4135-bac2-055861a82030",
   "metadata": {
    "slideshow": {
     "slide_type": "slide"
    }
   },
   "outputs": [],
   "source": [
    "# Deleting appended values\n",
    "print(example_list)\n",
    "example_list.remove(3)\n",
    "print(example_list)"
   ]
  },
  {
   "cell_type": "code",
   "execution_count": null,
   "id": "e6917828-342a-4712-b41e-8fc6ede5b09f",
   "metadata": {
    "slideshow": {
     "slide_type": "slide"
    }
   },
   "outputs": [],
   "source": [
    "# Creating a dictionary\n",
    "ex_dict={'first':'abc', 'second':'temp'}\n",
    "print(ex_dict)\n",
    "\n",
    "print(ex_dict['second'])"
   ]
  },
  {
   "cell_type": "code",
   "execution_count": null,
   "id": "9de8de69-47af-4d52-9bb7-78ef7bc03b7d",
   "metadata": {
    "slideshow": {
     "slide_type": "slide"
    }
   },
   "outputs": [],
   "source": [
    "# Creating a tuple\n",
    "example_tuple=(1, 9, 'a', 'b')\n",
    "print(example_tuple)"
   ]
  },
  {
   "cell_type": "code",
   "execution_count": null,
   "id": "4a7dbf4c-7269-4167-871b-8524f923a1d6",
   "metadata": {
    "slideshow": {
     "slide_type": "slide"
    }
   },
   "outputs": [],
   "source": [
    "# Creating a set\n",
    "my_set={1,1,1,1,2,2,'a','b'}\n",
    "print(my_set)"
   ]
  },
  {
   "cell_type": "code",
   "execution_count": null,
   "id": "01ffa3ea-8d24-403c-9608-c0d05c7954fc",
   "metadata": {
    "slideshow": {
     "slide_type": "slide"
    },
    "tags": []
   },
   "outputs": [],
   "source": [
    "# Exercise 2: Create each of the discussed data structures and assign them to a variable\n",
    "#list       []\n",
    "#tuple      ()\n",
    "#dict       {@:@, #:#, @:#}\n",
    "#set        {}\n",
    "\n",
    "new_list=[1,2,3,4]\n",
    "print(abc)\n",
    "\n",
    "new_tuple=('q', 'a', 6, 8)\n",
    "print(new_tuple)\n",
    "\n",
    "new_dict={'key':'value', 1:'another'}\n",
    "print(new_dict)\n",
    "\n",
    "new_set={1,1,3}\n",
    "print(new_set)"
   ]
  },
  {
   "cell_type": "markdown",
   "id": "f33aca9f-e846-4dd3-9553-59d26ab3df1d",
   "metadata": {
    "slideshow": {
     "slide_type": "slide"
    }
   },
   "source": [
    "# Operators\n",
    "\n",
    "There are a lot. Here are a few.\n",
    "\n",
    "https://www.w3schools.com/python/python_operators.asp\n",
    "\n",
    "##### Assignment Operators:\n",
    "\n",
    "x = 3 --> Assigns 3 to x\n",
    "x += 3 --> Incrementally adds the specified value to an existing variable x"
   ]
  },
  {
   "cell_type": "markdown",
   "id": "bdeaf5f5-52f2-462c-9f4b-d71489127fe3",
   "metadata": {
    "slideshow": {
     "slide_type": "slide"
    }
   },
   "source": [
    "##### Mathematical operators:\n",
    "Addition: +    \n",
    "Subtraction: -      \n",
    "\n",
    "##### Comparison operators:\n",
    "Evaluate - \"Is equal\": ==     \n",
    "Evaluate - \"Not equal\": !=    \n",
    "Greater than: >    \n",
    "Less than: <    "
   ]
  },
  {
   "cell_type": "markdown",
   "id": "c4bcc98a-7164-4a4b-b559-55cf2f857174",
   "metadata": {
    "slideshow": {
     "slide_type": "slide"
    }
   },
   "source": [
    "# Control Logic"
   ]
  },
  {
   "cell_type": "code",
   "execution_count": null,
   "id": "8e698446-8c11-49b1-a240-dedfc52670f3",
   "metadata": {
    "slideshow": {
     "slide_type": "slide"
    }
   },
   "outputs": [],
   "source": [
    "# if statements\n",
    "a=2\n",
    "if a > 3:\n",
    "    print(\"a greater than 3\")\n",
    "    \n",
    "else:\n",
    "    print(\"a less than or equal to 3\")"
   ]
  },
  {
   "cell_type": "code",
   "execution_count": null,
   "id": "c515129d-507f-48d2-ba4c-d3142cdf7887",
   "metadata": {
    "slideshow": {
     "slide_type": "slide"
    }
   },
   "outputs": [],
   "source": [
    "# while loops\n",
    "while a>0:\n",
    "    print(a)\n",
    "    a=a-1\n",
    "print(a)"
   ]
  },
  {
   "cell_type": "code",
   "execution_count": null,
   "id": "71b2ebf9-9f51-4a37-8e5e-812fe1ee61f1",
   "metadata": {
    "slideshow": {
     "slide_type": "slide"
    }
   },
   "outputs": [],
   "source": [
    "# for loops\n",
    "for item in example_list:\n",
    "    print(item)"
   ]
  },
  {
   "cell_type": "code",
   "execution_count": null,
   "id": "9bbd6c52-54db-457e-8843-948f679242f3",
   "metadata": {
    "slideshow": {
     "slide_type": "slide"
    }
   },
   "outputs": [],
   "source": [
    " # Excercise 3: Using the control logic discussed above, create a for loop that iterates through one of your \n",
    " # assigned data structures from excercise 2.\n",
    "for element in example_list:\n",
    "    print(element+5)\n",
    "    \n",
    "    \n",
    "    \n",
    "    \n",
    "    "
   ]
  },
  {
   "cell_type": "markdown",
   "id": "0d5f6812-fde6-4c9e-8a40-d493ca604e73",
   "metadata": {
    "slideshow": {
     "slide_type": "slide"
    }
   },
   "source": [
    "# Functions"
   ]
  },
  {
   "cell_type": "code",
   "execution_count": null,
   "id": "c84a8b68-e778-473c-95e1-1a79a9789244",
   "metadata": {
    "slideshow": {
     "slide_type": "slide"
    }
   },
   "outputs": [],
   "source": [
    "# Creating a function\n",
    "def new_func(val1, val2, val3):\n",
    "    print(val1 + val2)\n",
    "    \n",
    "    \n",
    "new_func('a', 3, 'b')"
   ]
  },
  {
   "cell_type": "code",
   "execution_count": null,
   "id": "0b3c5f8d-2f49-42bd-867a-19dd909c268c",
   "metadata": {
    "slideshow": {
     "slide_type": "slide"
    }
   },
   "outputs": [],
   "source": [
    "# Calling a function\n",
    "new_func(1,2,3)"
   ]
  },
  {
   "cell_type": "code",
   "execution_count": null,
   "id": "c8dc2f4f-dcfc-4612-a213-82230f8e9c18",
   "metadata": {
    "slideshow": {
     "slide_type": "slide"
    }
   },
   "outputs": [],
   "source": [
    "# Creating an addition function\n"
   ]
  },
  {
   "cell_type": "code",
   "execution_count": null,
   "id": "e7032a9a-cf6f-4d24-9470-1dc933987049",
   "metadata": {
    "slideshow": {
     "slide_type": "slide"
    }
   },
   "outputs": [],
   "source": [
    "# Calling my addition function\n"
   ]
  },
  {
   "cell_type": "code",
   "execution_count": null,
   "id": "bb5cfd37-fe10-4f9c-ae4f-457c3029c81f",
   "metadata": {
    "slideshow": {
     "slide_type": "slide"
    }
   },
   "outputs": [],
   "source": [
    "# Calling my addition function again\n"
   ]
  },
  {
   "cell_type": "code",
   "execution_count": null,
   "id": "0a79af92-2984-4ad7-be8b-94514c5b188c",
   "metadata": {
    "slideshow": {
     "slide_type": "slide"
    }
   },
   "outputs": [],
   "source": [
    "# Excercise 4: Create a function that prints numbers from 1 to 100. Print 'fizz' instead of the number if that number is divisible by 3, \n",
    "# print 'buzz' if the number is divisible by 5, and print 'fizzbuzz' if the number is divisible by both 3 and 5.\n",
    "\n",
    "# % (modular arithmetic operator)\n",
    "\n",
    "def fizzbuzz():\n",
    "    for i in range(1,100):\n",
    "        if i % 3 == 0  and  i % 5 != 0:\n",
    "            print(\"fizz\")\n",
    "        if i % 5 == 0  and  i % 3 != 0:\n",
    "            print(\"buzz\")\n",
    "        if i % 15 == 0:\n",
    "            print(\"fizzbuzz\")\n",
    "        if i%3 != 0 and i%5 !=0:\n",
    "            print(i)\n",
    "\n",
    "fizzbuzz()"
   ]
  },
  {
   "cell_type": "markdown",
   "id": "de8b2565-9c89-4e69-b818-c573bcf686ee",
   "metadata": {
    "slideshow": {
     "slide_type": "slide"
    }
   },
   "source": [
    "# Classes"
   ]
  },
  {
   "cell_type": "code",
   "execution_count": null,
   "id": "cd941c3e-3081-483c-a7e2-3fd0358353e4",
   "metadata": {
    "slideshow": {
     "slide_type": "slide"
    }
   },
   "outputs": [],
   "source": [
    "# Creating and working with classes\n",
    "class pet:\n",
    "        legs = 4\n",
    "\n",
    "\n",
    "class dog(pet):\n",
    "    def __init__(self):\n",
    "        super().__init__()\n",
    "        self.ears = 'floppy'\n",
    "        self.name = 'Fido'\n",
    "    \n",
    "    def bark(self):\n",
    "        print('woof')\n",
    "\n",
    "dog1=dog()\n",
    "dog1.bark()"
   ]
  },
  {
   "cell_type": "code",
   "execution_count": null,
   "id": "b1af7759-673b-4079-8c15-7d8ec6bd8677",
   "metadata": {
    "slideshow": {
     "slide_type": "slide"
    }
   },
   "outputs": [],
   "source": [
    "# Class examples\n",
    "\n"
   ]
  },
  {
   "cell_type": "markdown",
   "id": "f8ad4b14-e153-4ff2-a17f-93306561a30f",
   "metadata": {
    "slideshow": {
     "slide_type": "slide"
    }
   },
   "source": [
    "# Miscellaneous Tricks:"
   ]
  },
  {
   "cell_type": "code",
   "execution_count": null,
   "id": "1f094f3c-8dc2-4e80-8a63-7aee405434d4",
   "metadata": {
    "slideshow": {
     "slide_type": "slide"
    }
   },
   "outputs": [],
   "source": [
    "# Variable assignment tricks\n",
    "a, b, c = 1, 'a', 3\n",
    "print(a, b, c)"
   ]
  },
  {
   "cell_type": "code",
   "execution_count": null,
   "id": "916e0864-4490-4574-b35e-9b8b1428a31e",
   "metadata": {
    "slideshow": {
     "slide_type": "slide"
    }
   },
   "outputs": [],
   "source": [
    "a = b = c = 4"
   ]
  },
  {
   "cell_type": "code",
   "execution_count": null,
   "id": "16f0e1ea-e950-43e5-911a-b72b4cf8c778",
   "metadata": {
    "slideshow": {
     "slide_type": "slide"
    }
   },
   "outputs": [],
   "source": [
    "# List comprehension\n",
    "[i for i in range(1,10)]"
   ]
  },
  {
   "cell_type": "markdown",
   "id": "23cf1cb1-ccc6-4d26-9fe4-f0f735fd760f",
   "metadata": {
    "slideshow": {
     "slide_type": "slide"
    }
   },
   "source": [
    "# Useful Libraries"
   ]
  },
  {
   "cell_type": "markdown",
   "id": "4840e3f8-ca5d-497e-9fe6-1b6007c8e23a",
   "metadata": {
    "slideshow": {
     "slide_type": "slide"
    }
   },
   "source": [
    "### Data Wrangling - Numpy, Pandas"
   ]
  },
  {
   "cell_type": "code",
   "execution_count": null,
   "id": "40bccde6-4ce9-408d-aec1-2816c0067bbe",
   "metadata": {
    "slideshow": {
     "slide_type": "slide"
    }
   },
   "outputs": [],
   "source": [
    "import numpy as np\n",
    "# Creating a 1D array\n",
    "arr_1d = np.array([1,2,3,4,5])\n",
    "print(\"1D Array: \", arr_1d)\n",
    "# Creating a 2D array\n",
    "arr_d = np.array([[1,2,3], [4,5,6], [7, 8, 9]])\n",
    "print(\"2D Array: \", arr_d)"
   ]
  },
  {
   "cell_type": "code",
   "execution_count": null,
   "id": "779f4a03-f9d8-46bc-9cd4-fb6e166053e6",
   "metadata": {
    "slideshow": {
     "slide_type": "slide"
    }
   },
   "outputs": [],
   "source": [
    "# Element-wise operations\n",
    "arr_1 = np.array([1, 2, 3, 4])\n",
    "arr_2 = np.array([5, 6, 7, 8])\n",
    "\n",
    "# Addition\n",
    "print(\"Addition: \", arr_1 + arr_2)\n",
    "\n",
    "# Multiplication\n",
    "print(\"Multiply: \", arr_1 * arr_2)\n",
    "\n",
    "# Dot product\n",
    "print(\"Dot Product: \", np.dot(arr_1, arr_2))\n"
   ]
  },
  {
   "cell_type": "code",
   "execution_count": null,
   "id": "8439e866-d6d8-4584-a164-9631bff093e7",
   "metadata": {
    "slideshow": {
     "slide_type": "slide"
    }
   },
   "outputs": [],
   "source": [
    "# Exercise 5: Import numpy, create two arrays, and multiply them element-wise\n",
    "import numpy as np\n",
    "\n",
    "array_1 = np.array([1,2,3])\n",
    "array_2 = np.array([10,11,12])\n",
    "\n",
    "print(\"Multiply arrays element-wise: \", array_1 * array_2)\n"
   ]
  },
  {
   "cell_type": "markdown",
   "id": "2ac5aacb-da85-40bc-9d89-ed0c5eba4776",
   "metadata": {
    "slideshow": {
     "slide_type": "slide"
    }
   },
   "source": [
    "### Note that a lot of numpy's functions are fairly low-level. It only works with numerical data, but because of the way it is implemented, it is blazingly fast"
   ]
  },
  {
   "cell_type": "code",
   "execution_count": null,
   "id": "42299575-17d8-4d41-b8d5-8e3def576d58",
   "metadata": {
    "slideshow": {
     "slide_type": "slide"
    }
   },
   "outputs": [],
   "source": [
    "import seaborn as sns\n",
    "import pandas as pd\n",
    "t_df = sns.load_dataset('titanic', cache=False)\n",
    "t_df"
   ]
  },
  {
   "cell_type": "code",
   "execution_count": null,
   "id": "ad5eea2f-1ab2-47d9-aa45-2d07d7093ed6",
   "metadata": {
    "slideshow": {
     "slide_type": "slide"
    }
   },
   "outputs": [],
   "source": [
    "# Get the mean age of passengers\n",
    "t_df['age']"
   ]
  },
  {
   "cell_type": "code",
   "execution_count": null,
   "id": "e1218bdd-4e75-4636-b7dc-a9e1a642ba7e",
   "metadata": {
    "slideshow": {
     "slide_type": "slide"
    }
   },
   "outputs": [],
   "source": [
    "# Get the mean age of passengers split by gender\n",
    "t_df.groupby('sex')['age'].mean()"
   ]
  },
  {
   "cell_type": "code",
   "execution_count": null,
   "id": "4eebca3e-861e-4a0c-851b-d69d5a6a5a2c",
   "metadata": {
    "slideshow": {
     "slide_type": "slide"
    }
   },
   "outputs": [],
   "source": [
    "# Get the survival rates of different ticket classes\n",
    "t_df.groupby('class')['survived'].mean()"
   ]
  },
  {
   "cell_type": "code",
   "execution_count": null,
   "id": "c8847707-9a31-4053-a762-7b1e6bdd3d09",
   "metadata": {
    "slideshow": {
     "slide_type": "slide"
    }
   },
   "outputs": [],
   "source": [
    "# Get the survival rates by adult_male status\n"
   ]
  },
  {
   "cell_type": "code",
   "execution_count": null,
   "id": "bea26255-d8ec-4878-a1a9-d3999884a18f",
   "metadata": {
    "slideshow": {
     "slide_type": "slide"
    }
   },
   "outputs": [],
   "source": [
    "# Add mean age by gender to the original dataframe\n",
    "t_df['Age_Gender_mean'] = t_df.groupby('sex')['age'].transform('mean')\n",
    "t_df"
   ]
  },
  {
   "cell_type": "code",
   "execution_count": null,
   "id": "c712250c-a301-4ea5-8e40-0e8b204010d7",
   "metadata": {
    "slideshow": {
     "slide_type": "slide"
    }
   },
   "outputs": [],
   "source": [
    "# Create a pivot table showing survival rates by ticket class and sex\n",
    "t_df.pivot_table('survived', index=['class', 'sex'])"
   ]
  },
  {
   "cell_type": "markdown",
   "id": "b014250f-2891-4b9a-8efc-2014623cd4bd",
   "metadata": {
    "slideshow": {
     "slide_type": "slide"
    }
   },
   "source": [
    "### Data Visualization - Matplotlib, Seaborn"
   ]
  },
  {
   "cell_type": "markdown",
   "id": "caaa3ee5-d93f-4c47-bf6f-cd20b452622b",
   "metadata": {
    "slideshow": {
     "slide_type": "slide"
    }
   },
   "source": [
    "Note: Both of these libraries do essentially the same thing. The main difference is that matplotlib allows for very precise control over the plots created, whereas seaborn\n",
    "requires you give up some of this control for a more streamlined process."
   ]
  },
  {
   "cell_type": "code",
   "execution_count": null,
   "id": "c99a2b32-c4a3-4cff-93ab-0f87d8a2f7bb",
   "metadata": {
    "slideshow": {
     "slide_type": "slide"
    },
    "tags": []
   },
   "outputs": [],
   "source": [
    "import matplotlib.pyplot as plt\n",
    "\n",
    "# Boxplot of Age by Gender\n",
    "fig1, ax1 = plt.subplots()\n",
    "t_df.boxplot(ax=ax1, column = 'age', by = 'sex', notch = True, showmeans = True)\n",
    "ax1.set_xlabel('$Gender$')\n",
    "ax1.set_ylabel('$Age$')\n",
    "ax1.set_title('')\n",
    "fig1.suptitle('Age by Gender')"
   ]
  },
  {
   "cell_type": "code",
   "execution_count": null,
   "id": "6542329c-3420-41a6-a8c9-3519746fbe6f",
   "metadata": {
    "slideshow": {
     "slide_type": "slide"
    }
   },
   "outputs": [],
   "source": [
    "fig2, ax2 = plt.subplots()\n",
    "\n",
    "# Scatterplot of fare by age, colored based on survival\n",
    "\n",
    "t_df.loc[t_df['survived'] == 0].plot.scatter(ax=ax2, x = 'age', y = 'fare', \n",
    "                                             colorbar = False, label = 'Drowned', c = 'red')\n",
    "t_df.loc[t_df['survived'] == 1].plot.scatter(ax=ax2, x = 'age', y = 'fare', \n",
    "                                             colorbar = False, label = 'Drowned', c = 'blue')\n",
    "ax2.legend(['Drowned', 'Survived'])"
   ]
  },
  {
   "cell_type": "code",
   "execution_count": null,
   "id": "d89751c0-0715-49aa-a7fd-89b5b6cea2ca",
   "metadata": {
    "slideshow": {
     "slide_type": "slide"
    }
   },
   "outputs": [],
   "source": [
    "# Barplot of gender and survival\n",
    "fig3, ax3 = plt.subplots()\n",
    "t_df.groupby('sex')['survived'].value_counts().plot.bar(ax = ax3)"
   ]
  },
  {
   "cell_type": "code",
   "execution_count": null,
   "id": "001bde68-610f-4e65-bb65-d9b638d377ea",
   "metadata": {
    "slideshow": {
     "slide_type": "slide"
    }
   },
   "outputs": [],
   "source": [
    "# Seaborn boxplot of age by gender\n",
    "bplot = sns.boxplot(data = t_df, x = 'sex', y = 'age', order = ['female', 'male'], width = 0.2)\n",
    "bplot"
   ]
  },
  {
   "cell_type": "code",
   "execution_count": null,
   "id": "43ca0723-b8f5-4742-b5c0-e65f5e98ec53",
   "metadata": {
    "slideshow": {
     "slide_type": "slide"
    }
   },
   "outputs": [],
   "source": [
    "# Exercise 6: Make a boxplot using seaborn with different variables\n",
    "\n",
    "\n",
    "\n"
   ]
  },
  {
   "cell_type": "markdown",
   "id": "b89a79cd-8af7-4bbb-9a1a-fa7f324f2e4d",
   "metadata": {
    "slideshow": {
     "slide_type": "slide"
    }
   },
   "source": [
    "### Statistics - Scipy"
   ]
  },
  {
   "cell_type": "code",
   "execution_count": null,
   "id": "fe086afb-bfd8-4a5e-b033-ab69c974d54e",
   "metadata": {
    "slideshow": {
     "slide_type": "slide"
    }
   },
   "outputs": [],
   "source": [
    "# Chi Square test\n",
    "import scipy.stats"
   ]
  },
  {
   "cell_type": "code",
   "execution_count": null,
   "id": "9d685b36-03ee-4fbd-85a2-556bdac63592",
   "metadata": {
    "slideshow": {
     "slide_type": "slide"
    }
   },
   "outputs": [],
   "source": [
    "# Contingency table of survival and gender\n",
    "contingency_table = t_df.groupby('sex')['survived'].value_counts()\n",
    "contingency_table.unstack(0)"
   ]
  },
  {
   "cell_type": "code",
   "execution_count": null,
   "id": "38167bca-beef-4d8d-bc91-5c69a7c36042",
   "metadata": {
    "slideshow": {
     "slide_type": "slide"
    }
   },
   "outputs": [],
   "source": [
    "# Chi Square test of independence - are survival and gender independent variables?\n",
    "table = np.array([[81, 468], [233, 109]])\n",
    "result = scipy.stats.chi2_contingency(table)\n",
    "print(result.statistic)\n",
    "print(result.pvalue)"
   ]
  },
  {
   "cell_type": "code",
   "execution_count": null,
   "id": "7c89b693-85a0-4cf5-9d87-69ee18862269",
   "metadata": {
    "slideshow": {
     "slide_type": "slide"
    }
   },
   "outputs": [],
   "source": [
    "# Exercise 7: Perform a chi square test with survival and passenger class\n",
    "\n",
    "\n"
   ]
  },
  {
   "cell_type": "markdown",
   "id": "cbc1b5ff-6a84-435c-be12-9da505002141",
   "metadata": {
    "slideshow": {
     "slide_type": "slide"
    },
    "tags": []
   },
   "source": [
    "# IR Case Study - Compare success (A, B, C, CR) in ENGL-1301 between campuses over time"
   ]
  },
  {
   "cell_type": "code",
   "execution_count": null,
   "id": "2a8b21a6-d3f1-439b-ae2e-ce29b0d0c77c",
   "metadata": {
    "slideshow": {
     "slide_type": "slide"
    }
   },
   "outputs": [],
   "source": [
    "# Custom functions written in our department\n",
    "# Note: These won't work without the source code\n",
    "from irpy.functions import Mung\n",
    "from irpy.utilities import Term_to_Numeric"
   ]
  },
  {
   "cell_type": "code",
   "execution_count": null,
   "id": "1eddda9b-4d9d-415f-8ca8-213afe47e7da",
   "metadata": {
    "slideshow": {
     "slide_type": "slide"
    }
   },
   "outputs": [],
   "source": [
    "import pandas as pd\n",
    "pd.read_csv('sample_data.csv')"
   ]
  },
  {
   "cell_type": "code",
   "execution_count": null,
   "id": "800f2def-b6ba-458d-8bd3-1c166b297124",
   "metadata": {
    "slideshow": {
     "slide_type": "slide"
    }
   },
   "outputs": [],
   "source": [
    "my_data = pd.read_csv('sample_data.csv')"
   ]
  },
  {
   "cell_type": "code",
   "execution_count": null,
   "id": "2083c026-fc71-4960-812f-286fd2c8ad2f",
   "metadata": {
    "slideshow": {
     "slide_type": "slide"
    }
   },
   "outputs": [],
   "source": [
    "my_data"
   ]
  },
  {
   "cell_type": "code",
   "execution_count": null,
   "id": "8b4d0d31-4a44-4a38-a078-8ebfc736210d",
   "metadata": {
    "slideshow": {
     "slide_type": "slide"
    }
   },
   "outputs": [],
   "source": [
    "conditions = [\n",
    "            (my_data['GRADE']=='A')|(my_data['GRADE']=='B')|(my_data['GRADE']=='C')|(my_data['GRADE']=='CR'),\n",
    "            (my_data['GRADE']=='D')|(my_data['GRADE']=='F')|(my_data['GRADE']=='W')|(my_data['GRADE']=='NC')|(my_data['GRADE']=='I')\n",
    "            ]\n",
    "values = [1,0]\n",
    "my_data = my_data.assign(success=np.select(conditions, values, default=np.nan))\n",
    "my_data"
   ]
  },
  {
   "cell_type": "code",
   "execution_count": null,
   "id": "3b0ebf10-95bc-4e18-85a5-9a606f82e15b",
   "metadata": {
    "slideshow": {
     "slide_type": "slide"
    }
   },
   "outputs": [],
   "source": [
    "def Term_to_Numeric(term,UGorigin=2003,CEorigin=2001):\n",
    "        '''\n",
    "        Maps UG and CE terms to a number \n",
    "        (default UG terms start on 2003FL=0)\n",
    "        (default CE terms start on 2001Q1=-11)\n",
    "        '''\n",
    "        if 'FL' in term:\n",
    "            return (int(term[:4])-UGorigin)*3\n",
    "        elif 'SP' in term:\n",
    "            return (int(term[:4])-UGorigin-1)*3+1\n",
    "        elif 'SU' in term:\n",
    "            return (int(term[:4])-UGorigin-1)*3+2\n",
    "        \n",
    "        elif 'Q1' in term:\n",
    "            return (int(term[:4])-CEorigin)*4-11\n",
    "        elif 'Q2' in term:\n",
    "            return (int(term[:4])-CEorigin)*4+1-11\n",
    "        elif 'Q3' in term:\n",
    "            return (int(term[:4])-1-CEorigin)*4+2-11\n",
    "        elif 'Q4' in term:\n",
    "            return (int(term[:4])-1-CEorigin)*4+3-11\n",
    "        \n",
    "        else:\n",
    "            return -999"
   ]
  },
  {
   "cell_type": "code",
   "execution_count": null,
   "id": "3d374ebd-dbb5-42f0-83b0-518d61ccd06a",
   "metadata": {
    "slideshow": {
     "slide_type": "slide"
    }
   },
   "outputs": [],
   "source": [
    "my_data['Term_Num'] = my_data.apply(lambda row: Term_to_Numeric(row['TERM']), axis = 1)\n",
    "my_data"
   ]
  },
  {
   "cell_type": "code",
   "execution_count": null,
   "id": "c5a73601-3d09-42fe-bdfc-8b5e3392b116",
   "metadata": {
    "slideshow": {
     "slide_type": "slide"
    }
   },
   "outputs": [],
   "source": [
    "result = my_data.groupby(['TERM', 'CAMPUS']).success.value_counts(normalize=True).unstack(2)\n",
    "result"
   ]
  },
  {
   "cell_type": "code",
   "execution_count": null,
   "id": "d6180c4c-7b7d-4924-882b-23e222d98947",
   "metadata": {
    "slideshow": {
     "slide_type": "slide"
    }
   },
   "outputs": [],
   "source": [
    "result = result.drop(columns = [0.0])"
   ]
  },
  {
   "cell_type": "code",
   "execution_count": null,
   "id": "3a691f9e-ff02-42a5-9c72-5e0660bf2eb7",
   "metadata": {
    "slideshow": {
     "slide_type": "slide"
    }
   },
   "outputs": [],
   "source": [
    "result = result.unstack(1)\n",
    "result"
   ]
  },
  {
   "cell_type": "code",
   "execution_count": null,
   "id": "71abfa37-b146-47b9-8628-121002979de9",
   "metadata": {
    "slideshow": {
     "slide_type": "slide"
    }
   },
   "outputs": [],
   "source": [
    "IR_colormap = {'black':'#000000', \n",
    "               'bluegray':'#44546A', \n",
    "               'lightgray':'#E7E6E6', \n",
    "               'navy':'#244061', \n",
    "               'lime':'#64A038', \n",
    "               'gray':'#A5A5A5', \n",
    "               'aqua':'#028AB2', \n",
    "               'babyblue':'#7CE0FD', \n",
    "               'lightlime':'#A0D17C'}"
   ]
  },
  {
   "cell_type": "code",
   "execution_count": null,
   "id": "d3e958cf-ccd1-484f-a79f-f5d3550465ca",
   "metadata": {
    "slideshow": {
     "slide_type": "slide"
    }
   },
   "outputs": [],
   "source": [
    "colors = list(IR_colormap.values())"
   ]
  },
  {
   "cell_type": "code",
   "execution_count": null,
   "id": "b6c49b04-92e4-4cfd-b15e-cd035fe73d81",
   "metadata": {
    "slideshow": {
     "slide_type": "slide"
    }
   },
   "outputs": [],
   "source": [
    "from matplotlib.colors import LinearSegmentedColormap, ListedColormap\n",
    "import matplotlib as mpl\n",
    "cmap1 = ListedColormap(colors)"
   ]
  },
  {
   "cell_type": "code",
   "execution_count": null,
   "id": "cb3fee72-104b-4eb4-831b-776313428a19",
   "metadata": {
    "slideshow": {
     "slide_type": "slide"
    }
   },
   "outputs": [],
   "source": [
    "fig4, ax4 = plt.subplots()\n",
    "result.plot(ax=ax4, cmap=cmap1)\n",
    "fig4.suptitle('ENGL-1301 Success Rates')\n",
    "ax4.set_ylabel('Campus Success Rate (A, B, C, CR)')\n",
    "ax4.set_ylim([0.5, 0.7])"
   ]
  },
  {
   "cell_type": "code",
   "execution_count": null,
   "id": "e6b4f7e2-2525-464e-ba5b-8b3b0ddd3d52",
   "metadata": {
    "slideshow": {
     "slide_type": "slide"
    }
   },
   "outputs": [],
   "source": [
    "# Exercise 7: Determine which campus has the highest rate of success overall\n",
    "\n",
    "\n",
    "\n"
   ]
  },
  {
   "cell_type": "markdown",
   "id": "5821b783-c045-4792-94ae-91d0f56a2f0d",
   "metadata": {
    "slideshow": {
     "slide_type": "slide"
    }
   },
   "source": [
    "# Extra Resources"
   ]
  },
  {
   "cell_type": "markdown",
   "id": "031b9aa9-d3fd-4226-9cf0-f08c6e5cf8a1",
   "metadata": {
    "slideshow": {
     "slide_type": "slide"
    }
   },
   "source": [
    "## Google  \n",
    "\n",
    "### Environment Management tools:   \n",
    "Miniconda - https://www.youtube.com/watch?v=XCvgyvBFjyM   \n",
    "https://docs.anaconda.com/free/miniconda/index.html   \n",
    "pyenv (or pyenv-win)\n",
    "\n",
    "\n",
    "Pandas Tutor - https://pandastutor.com/   \n",
    "Stack Overflow - https://stackoverflow.com/   \n",
    "Stack Exchange - https://stackexchange.com/   \n",
    "Youtube (Data Talks, Tech with Tim)  \n",
    "Automate the Boring Stuff - https://automatetheboringstuff.com/   \n",
    "Beyond the Basic Stuff - https://inventwithpython.com/beyond/   \n",
    "\n",
    "### Link to This Presentation's Materials:   \n",
    "https://github.com/educationalCode/Workshop"
   ]
  },
  {
   "cell_type": "markdown",
   "id": "e6574bf1-cdff-4af7-a947-d4ef3bef4edb",
   "metadata": {
    "slideshow": {
     "slide_type": "slide"
    }
   },
   "source": [
    "# Q&A"
   ]
  }
 ],
 "metadata": {
  "celltoolbar": "Slideshow",
  "kernelspec": {
   "display_name": "Python 3 (ipykernel)",
   "language": "python",
   "name": "python3"
  },
  "language_info": {
   "codemirror_mode": {
    "name": "ipython",
    "version": 3
   },
   "file_extension": ".py",
   "mimetype": "text/x-python",
   "name": "python",
   "nbconvert_exporter": "python",
   "pygments_lexer": "ipython3",
   "version": "3.10.11"
  }
 },
 "nbformat": 4,
 "nbformat_minor": 5
}
