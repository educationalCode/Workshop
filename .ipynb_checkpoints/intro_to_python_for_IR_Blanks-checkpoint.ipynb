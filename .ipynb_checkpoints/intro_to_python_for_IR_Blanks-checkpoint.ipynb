{
 "cells": [
  {
   "cell_type": "markdown",
   "id": "88f7a622-e536-44eb-a09b-0569201fc8d5",
   "metadata": {},
   "source": [
    "# Welcome to a Brief Introduction!"
   ]
  },
  {
   "cell_type": "markdown",
   "id": "ad2e485f-f17f-4127-a1b0-86d82f80f6a0",
   "metadata": {
    "tags": []
   },
   "source": [
    "### Schedule and Goals:\n",
    "- Ask ourselves: \"Why python?\"\n",
    "- Introduce the base python programming language\n",
    "    - Syntax\n",
    "    - Data structures\n",
    "    - Operators\n",
    "    - Control logic\n",
    "    - Functions\n",
    "    - Classes\n",
    "    - Misc.\n",
    "- Discuss useful libraries for working with data\n",
    "    - Data Wrangling (Pandas & Numpy)\n",
    "    - Data Visualization (Matplotlib, Seaborn)\n",
    "    - Statistics (Scipy.stats, Numpy, math, statistics)\n",
    "- What to do when it doesn't work\n",
    "    - Resources\n",
    "    - My method\n",
    "- Q&A"
   ]
  },
  {
   "cell_type": "markdown",
   "id": "4c5d5da9-8c3b-45bf-b617-d3411610f1bc",
   "metadata": {},
   "source": [
    " "
   ]
  },
  {
   "cell_type": "markdown",
   "id": "efa58b49-1649-49cc-b7b0-772f3cd9082e",
   "metadata": {},
   "source": [
    " "
   ]
  },
  {
   "cell_type": "markdown",
   "id": "02fb4131-a7cc-4cdb-910a-7cff2a66d0e8",
   "metadata": {},
   "source": [
    "  "
   ]
  },
  {
   "cell_type": "markdown",
   "id": "38bd17c9-3815-4fc0-8541-3f89f5cd6442",
   "metadata": {},
   "source": [
    " "
   ]
  },
  {
   "cell_type": "markdown",
   "id": "61d50f7a-8a0d-4eab-80de-035eee6cea4a",
   "metadata": {},
   "source": [
    "## Why Python?"
   ]
  },
  {
   "cell_type": "markdown",
   "id": "1533dac8-f6e3-42f1-82fe-4eb2ffef8158",
   "metadata": {},
   "source": [
    " ...."
   ]
  },
  {
   "cell_type": "markdown",
   "id": "f5747662-244e-40c5-9a02-e39b19a40860",
   "metadata": {
    "tags": []
   },
   "source": [
    "#### *What Python?*"
   ]
  },
  {
   "cell_type": "markdown",
   "id": "d33d2186-56ec-4f5e-8225-c68e36455a82",
   "metadata": {},
   "source": [
    "  ->"
   ]
  },
  {
   "cell_type": "markdown",
   "id": "b3f88ee8-e485-4054-900d-6c8205846d7b",
   "metadata": {},
   "source": [
    "Python is a general purpose language that has gained traction in data. It is relatively easy-to-learn, and has wide community support."
   ]
  },
  {
   "cell_type": "markdown",
   "id": "9fd9185f-aad7-481e-80cc-4325c2cb9b42",
   "metadata": {},
   "source": [
    "### Considerations: \n",
    "- Open source vs. Proprietary\n",
    "    - Free\n",
    "    - .....but anyone can make changes (sort of)\n",
    "    - No direct customer support\n",
    "    - BUT..... VERY large community with many already-answered questions\n",
    "- Capabilities\n",
    "    - Can perform most of the same operations as other data-tools being used\n",
    "    - Is able to leverage open source community to import additional functionality (unlike proprietary)\n",
    "        - Very well supported data science ecosystem\n",
    "    - Aids in documentation and centralization of coding using tools like git\n",
    "- Adoption\n",
    "    - Is a whole new coding language. Worth having whole team learn a new language from scratch?\n",
    "    - In most senses, is not revolutionary in terms of what it can do in IR"
   ]
  },
  {
   "cell_type": "markdown",
   "id": "9d3ba12d-878f-4012-b9c9-c14afddfde7b",
   "metadata": {},
   "source": [
    " "
   ]
  },
  {
   "cell_type": "markdown",
   "id": "b83fa133-db04-4af4-9468-e7a199c0b561",
   "metadata": {},
   "source": [
    " "
   ]
  },
  {
   "cell_type": "markdown",
   "id": "4497b606-33c7-43d9-bc23-a75b56734e3c",
   "metadata": {
    "tags": []
   },
   "source": [
    "  # Installation of Anaconda"
   ]
  },
  {
   "cell_type": "markdown",
   "id": "b2ee81d7-f4aa-4b8e-9a95-f0a74c8e0c8c",
   "metadata": {},
   "source": [
    " "
   ]
  },
  {
   "cell_type": "markdown",
   "id": "bf880e9f-425b-4d59-af40-5bfb756ade9a",
   "metadata": {},
   "source": [
    "# Intro to Base Python"
   ]
  },
  {
   "cell_type": "markdown",
   "id": "143c7da6-7009-464f-a53c-3ecaa79917c3",
   "metadata": {},
   "source": [
    "#### Syntax Rules:\n",
    "1. Python is case sensitive\n",
    "2. Path specification requires forward slashes ( / )\n",
    "3. There is no command terminator at the end of each line\n",
    "4. Semicolons can be used to write more than one command on a line\n",
    "5. Strings are defined using '', \"\", ''' ''', or \"\"\" \"\"\"\n",
    "6. Comments begin with #\n",
    "7. To write a multiline command, use a backslash between lines ( \\ ). Expressions contained in [], {}, or () do not need backslashes between multiple lines\n",
    "8. Blank lines are ignored\n",
    "9. ***CODE BLOCKS ARE INDICATED USING INDENTATION***"
   ]
  },
  {
   "cell_type": "code",
   "execution_count": null,
   "id": "c58c3b85-389f-4639-bd77-9bb93c2ade2e",
   "metadata": {},
   "outputs": [],
   "source": [
    "a = 5"
   ]
  },
  {
   "cell_type": "markdown",
   "id": "58de44ad-196f-411d-a704-39303517f8b8",
   "metadata": {},
   "source": [
    "Notice that we assigned the value 5 to the variable a using the = operator"
   ]
  },
  {
   "cell_type": "code",
   "execution_count": null,
   "id": "8a9212dc-01f5-4dbd-865b-93687a00c55b",
   "metadata": {},
   "outputs": [],
   "source": [
    "# Watch how this prints three times:\n",
    "print('hello world!') ; print(\"HELLO WORLD\") ; print('''HeLloWorlD''')"
   ]
  },
  {
   "cell_type": "code",
   "execution_count": null,
   "id": "f14a819b-fa7e-4c2b-9454-14749ce7a742",
   "metadata": {},
   "outputs": [],
   "source": [
    "# Exercise 1: Assign a value to a variable and then print it using the print() function\n",
    "\n",
    "\n",
    "\n",
    "\n",
    "\n"
   ]
  },
  {
   "cell_type": "markdown",
   "id": "7c898442-4156-4b68-b217-fc3f7102c2a8",
   "metadata": {},
   "source": [
    " \n",
    " \n",
    " \n",
    " "
   ]
  },
  {
   "cell_type": "markdown",
   "id": "b7b969dd-df6c-4b59-a98c-7c4369ffba37",
   "metadata": {},
   "source": [
    " "
   ]
  },
  {
   "cell_type": "markdown",
   "id": "f14f8753-785e-446a-a284-600188353c72",
   "metadata": {},
   "source": [
    " "
   ]
  },
  {
   "cell_type": "markdown",
   "id": "5aae765a-1eed-47e9-a378-2a6af858919c",
   "metadata": {},
   "source": [
    "#### Data types and Data Structures:\n",
    "1. Lists\n",
    "2. Dictionaries\n",
    "3. Tuples\n",
    "4. Sets"
   ]
  },
  {
   "cell_type": "code",
   "execution_count": null,
   "id": "305c4583-19c0-41f7-8b76-d9dfcb338a3c",
   "metadata": {},
   "outputs": [],
   "source": [
    "# Creating a list\n"
   ]
  },
  {
   "cell_type": "code",
   "execution_count": null,
   "id": "db049d0d-79d8-443d-a01f-971551400410",
   "metadata": {},
   "outputs": [],
   "source": [
    "# Index slicing\n"
   ]
  },
  {
   "cell_type": "code",
   "execution_count": null,
   "id": "0470bb59-10d2-44d3-9039-f47a1446755e",
   "metadata": {},
   "outputs": [],
   "source": [
    "# Negative indexing\n"
   ]
  },
  {
   "cell_type": "code",
   "execution_count": null,
   "id": "a88bf12b-9b03-4d10-b9ca-9bc2847f88ea",
   "metadata": {},
   "outputs": [],
   "source": [
    "# Appending more elements to the list.\n",
    "# Note that running this cell multiple times will append multiple copies to the end of the list.\n"
   ]
  },
  {
   "cell_type": "code",
   "execution_count": null,
   "id": "ac812a97-348e-4161-8955-8a3a18468679",
   "metadata": {},
   "outputs": [],
   "source": [
    "# Printing every 3rd element (the format is start:end:step_size)\n"
   ]
  },
  {
   "cell_type": "code",
   "execution_count": null,
   "id": "5bfbb9fd-d619-4135-bac2-055861a82030",
   "metadata": {},
   "outputs": [],
   "source": [
    "# Deleting appended values\n"
   ]
  },
  {
   "cell_type": "code",
   "execution_count": null,
   "id": "e6917828-342a-4712-b41e-8fc6ede5b09f",
   "metadata": {},
   "outputs": [],
   "source": [
    "# Creating a dictionary\n"
   ]
  },
  {
   "cell_type": "code",
   "execution_count": null,
   "id": "9de8de69-47af-4d52-9bb7-78ef7bc03b7d",
   "metadata": {},
   "outputs": [],
   "source": [
    "# Creating a tuple\n"
   ]
  },
  {
   "cell_type": "code",
   "execution_count": null,
   "id": "4a7dbf4c-7269-4167-871b-8524f923a1d6",
   "metadata": {},
   "outputs": [],
   "source": [
    "# Creating a set\n"
   ]
  },
  {
   "cell_type": "markdown",
   "id": "22a88a4a-d75b-4ab9-b4bd-8946d39e0a2a",
   "metadata": {},
   "source": [
    " "
   ]
  },
  {
   "cell_type": "code",
   "execution_count": null,
   "id": "01ffa3ea-8d24-403c-9608-c0d05c7954fc",
   "metadata": {
    "tags": []
   },
   "outputs": [],
   "source": [
    "# Exercise 2: Create each of the discussed data structures and assign them to a variable\n",
    "\n",
    "\n",
    "\n",
    "\n",
    "\n"
   ]
  },
  {
   "cell_type": "markdown",
   "id": "a6039ea2-a5b7-47e6-81ad-798b473e051c",
   "metadata": {},
   "source": [
    "  "
   ]
  },
  {
   "cell_type": "markdown",
   "id": "e2a0ee24-ebaf-4a55-acf7-c6dd645f298c",
   "metadata": {},
   "source": [
    "  "
   ]
  },
  {
   "cell_type": "markdown",
   "id": "438195e8-6921-41aa-93ee-8d512cd59c5e",
   "metadata": {},
   "source": [
    "#### Operators"
   ]
  },
  {
   "cell_type": "markdown",
   "id": "f33aca9f-e846-4dd3-9553-59d26ab3df1d",
   "metadata": {},
   "source": [
    "There are a lot. Here are a few.\n",
    "\n",
    "https://www.w3schools.com/python/python_operators.asp\n",
    "\n",
    "\n",
    "\n",
    "\n",
    "##### Assignment Operators:\n",
    "\n",
    "x = 3 --> Assigns 3 to x\n",
    "x += 3 --> Incrementally adds the specified value to an existing variable x\n",
    "\n",
    "\n",
    "##### Mathematical operators:\n",
    "Addition: +    \n",
    "Subtraction: -      \n",
    "\n",
    "##### Comparison operators:\n",
    "Evaluate - \"Is equal\": ==     \n",
    "Evaluate - \"Not equal\": !=    \n",
    "Greater than: >    \n",
    "Less than: <    \n",
    "\n"
   ]
  },
  {
   "cell_type": "markdown",
   "id": "20371703-cf39-4ab4-9894-134e39266a11",
   "metadata": {},
   "source": [
    " "
   ]
  },
  {
   "cell_type": "markdown",
   "id": "c2d95e4d-4e3f-4aed-b123-35d2862963eb",
   "metadata": {},
   "source": [
    " "
   ]
  },
  {
   "cell_type": "markdown",
   "id": "c4bcc98a-7164-4a4b-b559-55cf2f857174",
   "metadata": {},
   "source": [
    "#### Control Logic"
   ]
  },
  {
   "cell_type": "code",
   "execution_count": null,
   "id": "8e698446-8c11-49b1-a240-dedfc52670f3",
   "metadata": {},
   "outputs": [],
   "source": [
    "# if statements\n"
   ]
  },
  {
   "cell_type": "code",
   "execution_count": null,
   "id": "c515129d-507f-48d2-ba4c-d3142cdf7887",
   "metadata": {},
   "outputs": [],
   "source": [
    "# while loops\n"
   ]
  },
  {
   "cell_type": "code",
   "execution_count": null,
   "id": "71b2ebf9-9f51-4a37-8e5e-812fe1ee61f1",
   "metadata": {},
   "outputs": [],
   "source": [
    "# for loops\n"
   ]
  },
  {
   "cell_type": "markdown",
   "id": "3a7aef84-5042-4742-9bf1-e44db6adcdc4",
   "metadata": {},
   "source": [
    " "
   ]
  },
  {
   "cell_type": "code",
   "execution_count": null,
   "id": "9bbd6c52-54db-457e-8843-948f679242f3",
   "metadata": {},
   "outputs": [],
   "source": [
    " # Excercise 3: Using the control logic discussed above, create a for loop that iterates through one of your assigned data structures from excercise 2.\n",
    "    \n",
    "    \n",
    "    \n",
    "    \n",
    "    \n",
    "    \n",
    "    "
   ]
  },
  {
   "cell_type": "markdown",
   "id": "6fdc7072-2711-4c0e-a77e-f7e2a02cd58b",
   "metadata": {},
   "source": [
    " "
   ]
  },
  {
   "cell_type": "markdown",
   "id": "37302334-6827-40ee-b9c4-e99c50729041",
   "metadata": {},
   "source": [
    " "
   ]
  },
  {
   "cell_type": "markdown",
   "id": "0d5f6812-fde6-4c9e-8a40-d493ca604e73",
   "metadata": {},
   "source": [
    "#### Functions"
   ]
  },
  {
   "cell_type": "code",
   "execution_count": null,
   "id": "c84a8b68-e778-473c-95e1-1a79a9789244",
   "metadata": {},
   "outputs": [],
   "source": [
    "# Creating a function\n"
   ]
  },
  {
   "cell_type": "code",
   "execution_count": null,
   "id": "0b3c5f8d-2f49-42bd-867a-19dd909c268c",
   "metadata": {},
   "outputs": [],
   "source": [
    "# Calling a function\n"
   ]
  },
  {
   "cell_type": "code",
   "execution_count": null,
   "id": "c8dc2f4f-dcfc-4612-a213-82230f8e9c18",
   "metadata": {},
   "outputs": [],
   "source": [
    "# Creating an addition function\n"
   ]
  },
  {
   "cell_type": "code",
   "execution_count": null,
   "id": "e7032a9a-cf6f-4d24-9470-1dc933987049",
   "metadata": {},
   "outputs": [],
   "source": [
    "# Calling my addition function\n"
   ]
  },
  {
   "cell_type": "code",
   "execution_count": null,
   "id": "bb5cfd37-fe10-4f9c-ae4f-457c3029c81f",
   "metadata": {},
   "outputs": [],
   "source": [
    "# Calling my addition function again\n"
   ]
  },
  {
   "cell_type": "markdown",
   "id": "3e21eb73-f301-4cb6-bc88-cd1e0362003c",
   "metadata": {},
   "source": [
    " "
   ]
  },
  {
   "cell_type": "code",
   "execution_count": null,
   "id": "0a79af92-2984-4ad7-be8b-94514c5b188c",
   "metadata": {},
   "outputs": [],
   "source": [
    "# Excercise 4: Create a function that prints numbers from 1 to 100. Print 'fizz' instead of the number if that number is divisible by 3, print 'buzz' if the number is divisible by 5, \n",
    "# and print 'fizzbuzz' if the number is divisible by both 3 and 5.\n",
    "\n",
    "\n",
    "\n",
    "\n",
    "\n",
    "\n"
   ]
  },
  {
   "cell_type": "markdown",
   "id": "bbaabb10-7e7b-4c0d-9426-ee3a3fccc1d2",
   "metadata": {},
   "source": [
    " "
   ]
  },
  {
   "cell_type": "markdown",
   "id": "7008812f-c7da-4dc6-9fba-73c608fdaedf",
   "metadata": {},
   "source": [
    " "
   ]
  },
  {
   "cell_type": "markdown",
   "id": "0af787a7-0076-43fe-b2ba-9aa1b4615435",
   "metadata": {},
   "source": [
    " "
   ]
  },
  {
   "cell_type": "markdown",
   "id": "de8b2565-9c89-4e69-b818-c573bcf686ee",
   "metadata": {},
   "source": [
    "#### Classes"
   ]
  },
  {
   "cell_type": "code",
   "execution_count": null,
   "id": "cd941c3e-3081-483c-a7e2-3fd0358353e4",
   "metadata": {},
   "outputs": [],
   "source": [
    "# Creating and working with classes\n",
    "class pet:\n",
    "        legs = 4\n",
    "\n",
    "\n",
    "class dog(pet):\n",
    "    def __init__(self):\n",
    "        super().__init__()\n",
    "        self.ears = 'floppy'\n",
    "        self.name = 'Fido'\n",
    "    \n",
    "    def bark(self):\n",
    "        print('woof')\n",
    "        "
   ]
  },
  {
   "cell_type": "code",
   "execution_count": null,
   "id": "ca518d46-3b88-4a8f-8e04-006711201deb",
   "metadata": {},
   "outputs": [],
   "source": []
  },
  {
   "cell_type": "code",
   "execution_count": null,
   "id": "37ea802a-1e3a-42e4-a509-4f04501a1a68",
   "metadata": {},
   "outputs": [],
   "source": []
  },
  {
   "cell_type": "code",
   "execution_count": null,
   "id": "8b5a57f0-8ded-4c2e-9150-cd789df6cce6",
   "metadata": {},
   "outputs": [],
   "source": []
  },
  {
   "cell_type": "code",
   "execution_count": null,
   "id": "7fc3f795-fe46-40ce-844c-cdd0ff19e3d2",
   "metadata": {},
   "outputs": [],
   "source": []
  },
  {
   "cell_type": "code",
   "execution_count": null,
   "id": "c61002ef-aceb-4543-88f3-56932af83548",
   "metadata": {},
   "outputs": [],
   "source": []
  },
  {
   "cell_type": "code",
   "execution_count": null,
   "id": "fa04e204-ef15-4afa-84e5-2c7d9067f17b",
   "metadata": {},
   "outputs": [],
   "source": []
  },
  {
   "cell_type": "code",
   "execution_count": null,
   "id": "7d671906-9bd8-4db3-a1a6-afe8d403f675",
   "metadata": {},
   "outputs": [],
   "source": []
  },
  {
   "cell_type": "code",
   "execution_count": null,
   "id": "b1af7759-673b-4079-8c15-7d8ec6bd8677",
   "metadata": {},
   "outputs": [],
   "source": []
  },
  {
   "cell_type": "markdown",
   "id": "f8ad4b14-e153-4ff2-a17f-93306561a30f",
   "metadata": {},
   "source": [
    "#### Miscellaneous Tricks:"
   ]
  },
  {
   "cell_type": "code",
   "execution_count": null,
   "id": "1f094f3c-8dc2-4e80-8a63-7aee405434d4",
   "metadata": {},
   "outputs": [],
   "source": [
    "# Variable assignment tricks\n",
    "a, b, c = 1, 'a', 3"
   ]
  },
  {
   "cell_type": "code",
   "execution_count": null,
   "id": "3c691eef-3eb8-42c2-8792-8ec3a6c06803",
   "metadata": {},
   "outputs": [],
   "source": [
    "print(a, b, c)"
   ]
  },
  {
   "cell_type": "code",
   "execution_count": null,
   "id": "916e0864-4490-4574-b35e-9b8b1428a31e",
   "metadata": {},
   "outputs": [],
   "source": [
    "a = b = c = 4"
   ]
  },
  {
   "cell_type": "code",
   "execution_count": null,
   "id": "16f0e1ea-e950-43e5-911a-b72b4cf8c778",
   "metadata": {},
   "outputs": [],
   "source": [
    "# List comprehension\n",
    "[i for i in range(10)]"
   ]
  },
  {
   "cell_type": "markdown",
   "id": "d3993bce-e3cc-498f-bb25-b005640baeb4",
   "metadata": {},
   "source": [
    " \n",
    " \n",
    " \n",
    " "
   ]
  },
  {
   "cell_type": "markdown",
   "id": "1c36a326-9371-47a8-b0d6-c5235bfcfb77",
   "metadata": {},
   "source": [
    " "
   ]
  },
  {
   "cell_type": "markdown",
   "id": "584a04bc-6607-4152-bf80-a6b63b8f6bbf",
   "metadata": {},
   "source": [
    " "
   ]
  },
  {
   "cell_type": "markdown",
   "id": "23cf1cb1-ccc6-4d26-9fe4-f0f735fd760f",
   "metadata": {},
   "source": [
    "# Useful Libraries"
   ]
  },
  {
   "cell_type": "markdown",
   "id": "4840e3f8-ca5d-497e-9fe6-1b6007c8e23a",
   "metadata": {},
   "source": [
    "### Data Wrangling - Numpy, Pandas"
   ]
  },
  {
   "cell_type": "code",
   "execution_count": null,
   "id": "40bccde6-4ce9-408d-aec1-2816c0067bbe",
   "metadata": {},
   "outputs": [],
   "source": [
    "import numpy as np\n",
    "# Creating a 1D array\n",
    "\n",
    "\n",
    "# Creating a 2D array\n",
    "\n"
   ]
  },
  {
   "cell_type": "code",
   "execution_count": null,
   "id": "779f4a03-f9d8-46bc-9cd4-fb6e166053e6",
   "metadata": {},
   "outputs": [],
   "source": [
    "# Element-wise operations\n",
    "arr1 = np.array([1, 2, 3, 4])\n",
    "arr2 = np.array([5, 6, 7, 8])\n",
    "\n",
    "# Addition\n",
    "\n",
    "\n",
    "# Multiplication\n",
    "\n",
    "\n",
    "# Dot product\n"
   ]
  },
  {
   "cell_type": "markdown",
   "id": "c560935a-f616-4e77-a308-a269384428ca",
   "metadata": {},
   "source": [
    " "
   ]
  },
  {
   "cell_type": "code",
   "execution_count": null,
   "id": "8439e866-d6d8-4584-a164-9631bff093e7",
   "metadata": {},
   "outputs": [],
   "source": [
    "# Exercise 5: Import numpy, create two arrays, and multiply them element-wise\n",
    "\n",
    "\n",
    "\n",
    "\n"
   ]
  },
  {
   "cell_type": "markdown",
   "id": "bfa9dd5d-719b-4068-9411-a9b5b583c106",
   "metadata": {},
   "source": [
    " "
   ]
  },
  {
   "cell_type": "markdown",
   "id": "2ac5aacb-da85-40bc-9d89-ed0c5eba4776",
   "metadata": {},
   "source": [
    "### Note that a lot of numpy's functions are fairly low-level. It only works with numerical data, but because of the way it is implemented, it is blazingly fast"
   ]
  },
  {
   "cell_type": "markdown",
   "id": "d8e52905-7bf5-43b6-946d-7c4d07e836fe",
   "metadata": {},
   "source": [
    " "
   ]
  },
  {
   "cell_type": "code",
   "execution_count": null,
   "id": "42299575-17d8-4d41-b8d5-8e3def576d58",
   "metadata": {},
   "outputs": [],
   "source": [
    "import seaborn as sns\n",
    "import pandas as pd\n",
    "t_df = sns.load_dataset('titanic', cache=False)\n",
    "t_df"
   ]
  },
  {
   "cell_type": "code",
   "execution_count": null,
   "id": "ad5eea2f-1ab2-47d9-aa45-2d07d7093ed6",
   "metadata": {},
   "outputs": [],
   "source": []
  },
  {
   "cell_type": "code",
   "execution_count": null,
   "id": "e1218bdd-4e75-4636-b7dc-a9e1a642ba7e",
   "metadata": {},
   "outputs": [],
   "source": []
  },
  {
   "cell_type": "code",
   "execution_count": null,
   "id": "4eebca3e-861e-4a0c-851b-d69d5a6a5a2c",
   "metadata": {},
   "outputs": [],
   "source": []
  },
  {
   "cell_type": "code",
   "execution_count": null,
   "id": "c8847707-9a31-4053-a762-7b1e6bdd3d09",
   "metadata": {},
   "outputs": [],
   "source": []
  },
  {
   "cell_type": "code",
   "execution_count": null,
   "id": "bea26255-d8ec-4878-a1a9-d3999884a18f",
   "metadata": {},
   "outputs": [],
   "source": []
  },
  {
   "cell_type": "code",
   "execution_count": null,
   "id": "c712250c-a301-4ea5-8e40-0e8b204010d7",
   "metadata": {},
   "outputs": [],
   "source": []
  },
  {
   "cell_type": "markdown",
   "id": "b014250f-2891-4b9a-8efc-2014623cd4bd",
   "metadata": {},
   "source": [
    "### Data Visualization - Matplotlib, Seaborn"
   ]
  },
  {
   "cell_type": "markdown",
   "id": "caaa3ee5-d93f-4c47-bf6f-cd20b452622b",
   "metadata": {},
   "source": [
    "Note: Both of these libraries do essentially the same thing. The main difference is that matplotlib allows for very precise control over the plots created, whereas seaborn\n",
    "requires you give up some of this control for a more streamlined process."
   ]
  },
  {
   "cell_type": "code",
   "execution_count": null,
   "id": "c99a2b32-c4a3-4cff-93ab-0f87d8a2f7bb",
   "metadata": {
    "tags": []
   },
   "outputs": [],
   "source": [
    "import matplotlib.pyplot as plt\n",
    "# Boxplot\n",
    "\n"
   ]
  },
  {
   "cell_type": "code",
   "execution_count": null,
   "id": "6542329c-3420-41a6-a8c9-3519746fbe6f",
   "metadata": {},
   "outputs": [],
   "source": [
    "fig2, ax2 = plt.subplots()\n",
    "\n",
    "# Scatterplots\n",
    "\n"
   ]
  },
  {
   "cell_type": "code",
   "execution_count": null,
   "id": "d89751c0-0715-49aa-a7fd-89b5b6cea2ca",
   "metadata": {},
   "outputs": [],
   "source": [
    "# Barplots\n"
   ]
  },
  {
   "cell_type": "code",
   "execution_count": null,
   "id": "001bde68-610f-4e65-bb65-d9b638d377ea",
   "metadata": {},
   "outputs": [],
   "source": [
    "# Seaborn boxplot\n"
   ]
  },
  {
   "cell_type": "code",
   "execution_count": null,
   "id": "43ca0723-b8f5-4742-b5c0-e65f5e98ec53",
   "metadata": {},
   "outputs": [],
   "source": [
    "# Exercise 6: Make a boxplot using seaborn with different variables\n",
    "\n",
    "\n",
    "\n"
   ]
  },
  {
   "cell_type": "markdown",
   "id": "b89a79cd-8af7-4bbb-9a1a-fa7f324f2e4d",
   "metadata": {},
   "source": [
    "### Statistics - Scipy"
   ]
  },
  {
   "cell_type": "code",
   "execution_count": null,
   "id": "fe086afb-bfd8-4a5e-b033-ab69c974d54e",
   "metadata": {},
   "outputs": [],
   "source": [
    "# Chi Square test\n",
    "import scipy.stats"
   ]
  },
  {
   "cell_type": "code",
   "execution_count": null,
   "id": "9d685b36-03ee-4fbd-85a2-556bdac63592",
   "metadata": {},
   "outputs": [],
   "source": [
    "# Contingency table\n"
   ]
  },
  {
   "cell_type": "code",
   "execution_count": null,
   "id": "38167bca-beef-4d8d-bc91-5c69a7c36042",
   "metadata": {},
   "outputs": [],
   "source": [
    "# Chi Square test of independence\n"
   ]
  },
  {
   "cell_type": "code",
   "execution_count": null,
   "id": "441d49dd-ad8b-4d55-a045-0c475f7e27cb",
   "metadata": {},
   "outputs": [],
   "source": [
    "# Contingency table 2\n"
   ]
  },
  {
   "cell_type": "code",
   "execution_count": null,
   "id": "7c89b693-85a0-4cf5-9d87-69ee18862269",
   "metadata": {},
   "outputs": [],
   "source": [
    "# Chi Square test of independence 2\n"
   ]
  },
  {
   "cell_type": "markdown",
   "id": "cbc1b5ff-6a84-435c-be12-9da505002141",
   "metadata": {
    "tags": []
   },
   "source": [
    "# IR Case Study - Compare success (A, B, C, CR) in ENGL-1301 between campuses over time"
   ]
  },
  {
   "cell_type": "code",
   "execution_count": 1,
   "id": "2a8b21a6-d3f1-439b-ae2e-ce29b0d0c77c",
   "metadata": {},
   "outputs": [
    {
     "data": {
      "text/html": [
       "<div>\n",
       "<style scoped>\n",
       "    .dataframe tbody tr th:only-of-type {\n",
       "        vertical-align: middle;\n",
       "    }\n",
       "\n",
       "    .dataframe tbody tr th {\n",
       "        vertical-align: top;\n",
       "    }\n",
       "\n",
       "    .dataframe thead th {\n",
       "        text-align: right;\n",
       "    }\n",
       "</style>\n",
       "<table border=\"1\" class=\"dataframe\">\n",
       "  <thead>\n",
       "    <tr style=\"text-align: right;\">\n",
       "      <th></th>\n",
       "      <th>TERM</th>\n",
       "      <th>STUDENT_ID</th>\n",
       "      <th>COURSE</th>\n",
       "      <th>CAMPUS</th>\n",
       "      <th>GRADE</th>\n",
       "    </tr>\n",
       "  </thead>\n",
       "  <tbody>\n",
       "    <tr>\n",
       "      <th>0</th>\n",
       "      <td>2021FL</td>\n",
       "      <td>zpomxyc</td>\n",
       "      <td>ENGL-1301</td>\n",
       "      <td>SE</td>\n",
       "      <td>B</td>\n",
       "    </tr>\n",
       "    <tr>\n",
       "      <th>1</th>\n",
       "      <td>2021FL</td>\n",
       "      <td>npfrrgi</td>\n",
       "      <td>ENGL-1301</td>\n",
       "      <td>NE</td>\n",
       "      <td>F</td>\n",
       "    </tr>\n",
       "    <tr>\n",
       "      <th>2</th>\n",
       "      <td>2021FL</td>\n",
       "      <td>fzapltz</td>\n",
       "      <td>ENGL-1301</td>\n",
       "      <td>SO</td>\n",
       "      <td>B</td>\n",
       "    </tr>\n",
       "    <tr>\n",
       "      <th>3</th>\n",
       "      <td>2021FL</td>\n",
       "      <td>xvvdykp</td>\n",
       "      <td>ENGL-1301</td>\n",
       "      <td>NW</td>\n",
       "      <td>CR</td>\n",
       "    </tr>\n",
       "    <tr>\n",
       "      <th>4</th>\n",
       "      <td>2021FL</td>\n",
       "      <td>zkgjyqz</td>\n",
       "      <td>ENGL-1301</td>\n",
       "      <td>SO</td>\n",
       "      <td>D</td>\n",
       "    </tr>\n",
       "    <tr>\n",
       "      <th>...</th>\n",
       "      <td>...</td>\n",
       "      <td>...</td>\n",
       "      <td>...</td>\n",
       "      <td>...</td>\n",
       "      <td>...</td>\n",
       "    </tr>\n",
       "    <tr>\n",
       "      <th>24995</th>\n",
       "      <td>2023FL</td>\n",
       "      <td>itcbpfh</td>\n",
       "      <td>ENGL-1301</td>\n",
       "      <td>TR</td>\n",
       "      <td>F</td>\n",
       "    </tr>\n",
       "    <tr>\n",
       "      <th>24996</th>\n",
       "      <td>2023FL</td>\n",
       "      <td>yxzklon</td>\n",
       "      <td>ENGL-1301</td>\n",
       "      <td>SE</td>\n",
       "      <td>A</td>\n",
       "    </tr>\n",
       "    <tr>\n",
       "      <th>24997</th>\n",
       "      <td>2023FL</td>\n",
       "      <td>mvjolaa</td>\n",
       "      <td>ENGL-1301</td>\n",
       "      <td>SO</td>\n",
       "      <td>B</td>\n",
       "    </tr>\n",
       "    <tr>\n",
       "      <th>24998</th>\n",
       "      <td>2023FL</td>\n",
       "      <td>lqmsszq</td>\n",
       "      <td>ENGL-1301</td>\n",
       "      <td>SO</td>\n",
       "      <td>B</td>\n",
       "    </tr>\n",
       "    <tr>\n",
       "      <th>24999</th>\n",
       "      <td>2023FL</td>\n",
       "      <td>awpupqc</td>\n",
       "      <td>ENGL-1301</td>\n",
       "      <td>SO</td>\n",
       "      <td>F</td>\n",
       "    </tr>\n",
       "  </tbody>\n",
       "</table>\n",
       "<p>25000 rows × 5 columns</p>\n",
       "</div>"
      ],
      "text/plain": [
       "         TERM STUDENT_ID     COURSE CAMPUS GRADE\n",
       "0      2021FL    zpomxyc  ENGL-1301     SE     B\n",
       "1      2021FL    npfrrgi  ENGL-1301     NE     F\n",
       "2      2021FL    fzapltz  ENGL-1301     SO     B\n",
       "3      2021FL    xvvdykp  ENGL-1301     NW    CR\n",
       "4      2021FL    zkgjyqz  ENGL-1301     SO     D\n",
       "...       ...        ...        ...    ...   ...\n",
       "24995  2023FL    itcbpfh  ENGL-1301     TR     F\n",
       "24996  2023FL    yxzklon  ENGL-1301     SE     A\n",
       "24997  2023FL    mvjolaa  ENGL-1301     SO     B\n",
       "24998  2023FL    lqmsszq  ENGL-1301     SO     B\n",
       "24999  2023FL    awpupqc  ENGL-1301     SO     F\n",
       "\n",
       "[25000 rows x 5 columns]"
      ]
     },
     "execution_count": 1,
     "metadata": {},
     "output_type": "execute_result"
    }
   ],
   "source": [
    "# from irpy.functions import Mung\n",
    "# from irpy.utilities import Term_to_Numeric\n",
    "import pandas as pd\n",
    "pd.read_csv('sample_data.csv')\n"
   ]
  },
  {
   "cell_type": "code",
   "execution_count": null,
   "id": "71abfa37-b146-47b9-8628-121002979de9",
   "metadata": {},
   "outputs": [],
   "source": [
    "IR_colormap = {'black':'#000000', \n",
    "               'bluegray':'#44546A', \n",
    "               'lightgray':'#E7E6E6', \n",
    "               'navy':'#244061', \n",
    "               'lime':'#64A038', \n",
    "               'gray':'#A5A5A5', \n",
    "               'aqua':'#028AB2', \n",
    "               'babyblue':'#7CE0FD', \n",
    "               'lightlime':'#A0D17C'}"
   ]
  },
  {
   "cell_type": "code",
   "execution_count": null,
   "id": "d3e958cf-ccd1-484f-a79f-f5d3550465ca",
   "metadata": {},
   "outputs": [],
   "source": [
    "colors = list(IR_colormap.values())"
   ]
  },
  {
   "cell_type": "code",
   "execution_count": null,
   "id": "b6c49b04-92e4-4cfd-b15e-cd035fe73d81",
   "metadata": {},
   "outputs": [],
   "source": [
    "from matplotlib.colors import LinearSegmentedColormap, ListedColormap\n",
    "import matplotlib as mpl\n",
    "cmap1 = ListedColormap(colors)"
   ]
  },
  {
   "cell_type": "code",
   "execution_count": null,
   "id": "cb3fee72-104b-4eb4-831b-776313428a19",
   "metadata": {},
   "outputs": [],
   "source": [
    "fig4, ax4 = plt.subplots()\n",
    "result.plot(ax=ax4, cmap=cmap1)\n",
    "fig4.suptitle('ENGL-1301 Success Rates')\n",
    "ax4.set_ylabel('Campus Success Rate (A, B, C, CR)')\n",
    "ax4.set_ylim([0.5, 1.0])"
   ]
  },
  {
   "cell_type": "code",
   "execution_count": 1,
   "id": "e6b4f7e2-2525-464e-ba5b-8b3b0ddd3d52",
   "metadata": {},
   "outputs": [],
   "source": [
    "# Exercise 7: Determine which campus has the highest rate of success overall\n",
    "\n",
    "\n",
    "\n"
   ]
  },
  {
   "cell_type": "markdown",
   "id": "5821b783-c045-4792-94ae-91d0f56a2f0d",
   "metadata": {},
   "source": [
    "# Extra Resources"
   ]
  },
  {
   "cell_type": "markdown",
   "id": "031b9aa9-d3fd-4226-9cf0-f08c6e5cf8a1",
   "metadata": {},
   "source": [
    "Google   \n",
    "Pandas Tutor - https://pandastutor.com/   \n",
    "Stack Overflow - https://stackoverflow.com/   \n",
    "Stack Exchange - https://stackexchange.com/   \n",
    "Youtube (Data Talks, Tech with Tim)  \n",
    "Automate the Boring Stuff - https://automatetheboringstuff.com/   \n",
    "Beyond the Basic Stuff - https://inventwithpython.com/beyond/"
   ]
  },
  {
   "cell_type": "markdown",
   "id": "8ed84b8b-542a-4c14-9fbe-97dc22ad0c74",
   "metadata": {},
   "source": [
    "# Link to This Presentation's Materials"
   ]
  },
  {
   "cell_type": "markdown",
   "id": "7f9c1f25-8a5e-4764-a2c5-f1b28bf7cd5e",
   "metadata": {},
   "source": [
    "https://github.com/educationalCode/Workshop"
   ]
  },
  {
   "cell_type": "markdown",
   "id": "e6574bf1-cdff-4af7-a947-d4ef3bef4edb",
   "metadata": {},
   "source": [
    "# Q&A"
   ]
  }
 ],
 "metadata": {
  "kernelspec": {
   "display_name": "Python 3 (ipykernel)",
   "language": "python",
   "name": "python3"
  },
  "language_info": {
   "codemirror_mode": {
    "name": "ipython",
    "version": 3
   },
   "file_extension": ".py",
   "mimetype": "text/x-python",
   "name": "python",
   "nbconvert_exporter": "python",
   "pygments_lexer": "ipython3",
   "version": "3.10.11"
  }
 },
 "nbformat": 4,
 "nbformat_minor": 5
}
