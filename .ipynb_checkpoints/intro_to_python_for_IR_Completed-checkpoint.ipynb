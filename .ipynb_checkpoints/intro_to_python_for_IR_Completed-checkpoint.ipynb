{
 "cells": [
  {
   "cell_type": "markdown",
   "id": "88f7a622-e536-44eb-a09b-0569201fc8d5",
   "metadata": {},
   "source": [
    "# Welcome to a Brief Introduction!"
   ]
  },
  {
   "cell_type": "markdown",
   "id": "ad2e485f-f17f-4127-a1b0-86d82f80f6a0",
   "metadata": {
    "tags": []
   },
   "source": [
    "### Schedule and Goals:\n",
    "- Ask ourselves: \"Why python?\"\n",
    "- Introduce the base python programming language\n",
    "    - Syntax\n",
    "    - Data structures\n",
    "    - Operators\n",
    "    - Control logic\n",
    "    - Functions\n",
    "    - Classes\n",
    "    - Misc.\n",
    "- Discuss useful libraries for working with data\n",
    "    - Data Wrangling (Pandas & Numpy)\n",
    "    - Data Visualization (Matplotlib, Seaborn)\n",
    "    - Statistics (Scipy.stats, Numpy, math, statistics)\n",
    "- What to do when it doesn't work\n",
    "    - Resources\n",
    "    - My method\n",
    "- Q&A"
   ]
  },
  {
   "cell_type": "markdown",
   "id": "4c5d5da9-8c3b-45bf-b617-d3411610f1bc",
   "metadata": {},
   "source": [
    " "
   ]
  },
  {
   "cell_type": "markdown",
   "id": "efa58b49-1649-49cc-b7b0-772f3cd9082e",
   "metadata": {},
   "source": [
    " "
   ]
  },
  {
   "cell_type": "markdown",
   "id": "02fb4131-a7cc-4cdb-910a-7cff2a66d0e8",
   "metadata": {},
   "source": [
    "  "
   ]
  },
  {
   "cell_type": "markdown",
   "id": "38bd17c9-3815-4fc0-8541-3f89f5cd6442",
   "metadata": {},
   "source": [
    " "
   ]
  },
  {
   "cell_type": "markdown",
   "id": "61d50f7a-8a0d-4eab-80de-035eee6cea4a",
   "metadata": {},
   "source": [
    "## Why Python?"
   ]
  },
  {
   "cell_type": "markdown",
   "id": "1533dac8-f6e3-42f1-82fe-4eb2ffef8158",
   "metadata": {},
   "source": [
    " ...."
   ]
  },
  {
   "cell_type": "markdown",
   "id": "f5747662-244e-40c5-9a02-e39b19a40860",
   "metadata": {
    "tags": []
   },
   "source": [
    "#### *What Python?*"
   ]
  },
  {
   "cell_type": "markdown",
   "id": "d33d2186-56ec-4f5e-8225-c68e36455a82",
   "metadata": {},
   "source": [
    "  ->"
   ]
  },
  {
   "cell_type": "markdown",
   "id": "b3f88ee8-e485-4054-900d-6c8205846d7b",
   "metadata": {},
   "source": [
    "Python is a general purpose language that has gained traction in data. It is relatively easy-to-learn, and has wide community support."
   ]
  },
  {
   "cell_type": "markdown",
   "id": "9fd9185f-aad7-481e-80cc-4325c2cb9b42",
   "metadata": {},
   "source": [
    "### Considerations: \n",
    "- Open source vs. Proprietary\n",
    "    - Free\n",
    "    - .....but anyone can make changes (sort of)\n",
    "    - No direct customer support\n",
    "    - BUT..... VERY large community with many already-answered questions\n",
    "- Capabilities\n",
    "    - Can perform most of the same operations as other data-tools being used\n",
    "    - Is able to leverage open source community to import additional functionality (unlike proprietary)\n",
    "        - Very well supported data science ecosystem\n",
    "    - Aids in documentation and centralization of coding using tools like git\n",
    "- Adoption\n",
    "    - Is a whole new coding language. Worth having whole team learn a new language from scratch?\n",
    "    - In most senses, is not revolutionary in terms of what it can do in IR"
   ]
  },
  {
   "cell_type": "markdown",
   "id": "9d3ba12d-878f-4012-b9c9-c14afddfde7b",
   "metadata": {},
   "source": [
    " "
   ]
  },
  {
   "cell_type": "markdown",
   "id": "b83fa133-db04-4af4-9468-e7a199c0b561",
   "metadata": {},
   "source": [
    " "
   ]
  },
  {
   "cell_type": "markdown",
   "id": "bf880e9f-425b-4d59-af40-5bfb756ade9a",
   "metadata": {},
   "source": [
    "# Intro to Base Python"
   ]
  },
  {
   "cell_type": "markdown",
   "id": "143c7da6-7009-464f-a53c-3ecaa79917c3",
   "metadata": {},
   "source": [
    "#### Syntax Rules:\n",
    "1. Python is case sensitive\n",
    "2. Path specification requires forward slashes ( / )\n",
    "3. There is no command terminator at the end of each line\n",
    "4. Semicolons can be used to write more than one command on a line\n",
    "5. Strings are defined using '', \"\", ''' ''', or \"\"\" \"\"\"\n",
    "6. Comments begin with #\n",
    "7. To write a multiline command, use a backslash between lines ( \\ ). Expressions contained in [], {}, or () do not need backslashes between multiple lines\n",
    "8. Blank lines are ignored\n",
    "9. ***CODE BLOCKS ARE INDICATED USING INDENTATION***"
   ]
  },
  {
   "cell_type": "code",
   "execution_count": 1,
   "id": "c58c3b85-389f-4639-bd77-9bb93c2ade2e",
   "metadata": {},
   "outputs": [
    {
     "ename": "NameError",
     "evalue": "name 'A' is not defined",
     "output_type": "error",
     "traceback": [
      "\u001b[1;31m---------------------------------------------------------------------------\u001b[0m",
      "\u001b[1;31mNameError\u001b[0m                                 Traceback (most recent call last)",
      "Cell \u001b[1;32mIn[1], line 3\u001b[0m\n\u001b[0;32m      1\u001b[0m a \u001b[38;5;241m=\u001b[39m \u001b[38;5;241m5\u001b[39m\n\u001b[0;32m      2\u001b[0m a\n\u001b[1;32m----> 3\u001b[0m \u001b[43mA\u001b[49m\n",
      "\u001b[1;31mNameError\u001b[0m: name 'A' is not defined"
     ]
    }
   ],
   "source": [
    "a = 5\n",
    "a\n",
    "A"
   ]
  },
  {
   "cell_type": "markdown",
   "id": "58de44ad-196f-411d-a704-39303517f8b8",
   "metadata": {},
   "source": [
    "Notice that we assigned the value 5 to the variable a using the = operator"
   ]
  },
  {
   "cell_type": "code",
   "execution_count": 2,
   "id": "8a9212dc-01f5-4dbd-865b-93687a00c55b",
   "metadata": {},
   "outputs": [
    {
     "name": "stdout",
     "output_type": "stream",
     "text": [
      "hello world!\n",
      "HELLO WORLD\n",
      "HeLloWorlD\n"
     ]
    }
   ],
   "source": [
    "# Watch how this prints three times:\n",
    "print('hello world!') ; print(\"HELLO WORLD\") ; print('''HeLloWorlD''')"
   ]
  },
  {
   "cell_type": "code",
   "execution_count": 3,
   "id": "f14a819b-fa7e-4c2b-9454-14749ce7a742",
   "metadata": {},
   "outputs": [],
   "source": [
    "# Exercise 1: Assign a value to a variable and then print it using the print() function\n",
    "\n",
    "\n",
    "\n",
    "\n",
    "\n"
   ]
  },
  {
   "cell_type": "markdown",
   "id": "7c898442-4156-4b68-b217-fc3f7102c2a8",
   "metadata": {},
   "source": [
    " \n",
    " \n",
    " \n",
    " "
   ]
  },
  {
   "cell_type": "markdown",
   "id": "b7b969dd-df6c-4b59-a98c-7c4369ffba37",
   "metadata": {},
   "source": [
    " "
   ]
  },
  {
   "cell_type": "markdown",
   "id": "f14f8753-785e-446a-a284-600188353c72",
   "metadata": {},
   "source": [
    " "
   ]
  },
  {
   "cell_type": "markdown",
   "id": "5aae765a-1eed-47e9-a378-2a6af858919c",
   "metadata": {},
   "source": [
    "#### Data types and Data Structures:\n",
    "1. Lists\n",
    "2. Dictionaries\n",
    "3. Tuples\n",
    "4. Sets"
   ]
  },
  {
   "cell_type": "code",
   "execution_count": 4,
   "id": "305c4583-19c0-41f7-8b76-d9dfcb338a3c",
   "metadata": {},
   "outputs": [
    {
     "name": "stdout",
     "output_type": "stream",
     "text": [
      "[1, 'q', 7.5, 5, 1]\n"
     ]
    }
   ],
   "source": [
    "# Creating a list\n",
    "my_list = [1, 'q', 7.5, a, 1]\n",
    "print(my_list)"
   ]
  },
  {
   "cell_type": "code",
   "execution_count": 5,
   "id": "db049d0d-79d8-443d-a01f-971551400410",
   "metadata": {},
   "outputs": [
    {
     "name": "stdout",
     "output_type": "stream",
     "text": [
      "[7.5, 5]\n"
     ]
    }
   ],
   "source": [
    "# Index slicing\n",
    "print(my_list[2:4])"
   ]
  },
  {
   "cell_type": "code",
   "execution_count": 6,
   "id": "0470bb59-10d2-44d3-9039-f47a1446755e",
   "metadata": {},
   "outputs": [
    {
     "name": "stdout",
     "output_type": "stream",
     "text": [
      "5\n"
     ]
    }
   ],
   "source": [
    "# Negative indexing\n",
    "print(my_list[-2])"
   ]
  },
  {
   "cell_type": "code",
   "execution_count": 7,
   "id": "a88bf12b-9b03-4d10-b9ca-9bc2847f88ea",
   "metadata": {},
   "outputs": [
    {
     "name": "stdout",
     "output_type": "stream",
     "text": [
      "[1, 'q', 7.5, 5, 1, 'z', 13, 'a', 100, 'n']\n"
     ]
    }
   ],
   "source": [
    "# Appending more elements to the list.\n",
    "# Note that running this cell multiple times will append multiple copies to the end of the list.\n",
    "my_list = my_list + ['z', 13, 'a', 100, 'n']\n",
    "print(my_list)"
   ]
  },
  {
   "cell_type": "code",
   "execution_count": 8,
   "id": "ac812a97-348e-4161-8955-8a3a18468679",
   "metadata": {},
   "outputs": [
    {
     "name": "stdout",
     "output_type": "stream",
     "text": [
      "[7.5, 'z', 100]\n"
     ]
    }
   ],
   "source": [
    "# Printing every 3rd element (the format is start:end:step_size)\n",
    "print(my_list[2:100:3])"
   ]
  },
  {
   "cell_type": "code",
   "execution_count": 9,
   "id": "5bfbb9fd-d619-4135-bac2-055861a82030",
   "metadata": {},
   "outputs": [
    {
     "name": "stdout",
     "output_type": "stream",
     "text": [
      "[1, 'q', 7.5, 5, 1]\n"
     ]
    }
   ],
   "source": [
    "# Deleting appended values\n",
    "for i in my_list[my_list.index('z'):len(my_list)]:\n",
    "    my_list.remove(i)\n",
    "print(my_list)"
   ]
  },
  {
   "cell_type": "code",
   "execution_count": 10,
   "id": "e6917828-342a-4712-b41e-8fc6ede5b09f",
   "metadata": {},
   "outputs": [
    {
     "name": "stdout",
     "output_type": "stream",
     "text": [
      "10\n"
     ]
    }
   ],
   "source": [
    "# Creating a dictionary\n",
    "my_dictionary = {'entry1':10, 'entry2':20, 'entry3':30}\n",
    "print(my_dictionary['entry1'])"
   ]
  },
  {
   "cell_type": "code",
   "execution_count": 11,
   "id": "9de8de69-47af-4d52-9bb7-78ef7bc03b7d",
   "metadata": {},
   "outputs": [
    {
     "name": "stdout",
     "output_type": "stream",
     "text": [
      "1\n"
     ]
    }
   ],
   "source": [
    "# Creating a tuple\n",
    "my_tuple = (1, 2, 3)\n",
    "print(my_tuple[0])"
   ]
  },
  {
   "cell_type": "code",
   "execution_count": 12,
   "id": "4a7dbf4c-7269-4167-871b-8524f923a1d6",
   "metadata": {},
   "outputs": [],
   "source": [
    "\n",
    "my_set = {1, 'q', 7.5, a, 1}"
   ]
  },
  {
   "cell_type": "code",
   "execution_count": 13,
   "id": "cfac606a-9f6d-4d02-bd20-8787955583db",
   "metadata": {},
   "outputs": [
    {
     "name": "stdout",
     "output_type": "stream",
     "text": [
      "{1, 7.5, 5, 'q'}\n"
     ]
    }
   ],
   "source": [
    "print(my_set)"
   ]
  },
  {
   "cell_type": "markdown",
   "id": "22a88a4a-d75b-4ab9-b4bd-8946d39e0a2a",
   "metadata": {},
   "source": [
    " "
   ]
  },
  {
   "cell_type": "code",
   "execution_count": 14,
   "id": "01ffa3ea-8d24-403c-9608-c0d05c7954fc",
   "metadata": {
    "tags": []
   },
   "outputs": [],
   "source": [
    "# Excercise 2: Create each of the discussed data structures and assign them to a variable\n",
    "\n",
    "\n",
    "\n",
    "\n",
    "\n"
   ]
  },
  {
   "cell_type": "markdown",
   "id": "a6039ea2-a5b7-47e6-81ad-798b473e051c",
   "metadata": {},
   "source": [
    "  "
   ]
  },
  {
   "cell_type": "markdown",
   "id": "e2a0ee24-ebaf-4a55-acf7-c6dd645f298c",
   "metadata": {},
   "source": [
    "  "
   ]
  },
  {
   "cell_type": "markdown",
   "id": "438195e8-6921-41aa-93ee-8d512cd59c5e",
   "metadata": {},
   "source": [
    "# Operators"
   ]
  },
  {
   "cell_type": "markdown",
   "id": "f33aca9f-e846-4dd3-9553-59d26ab3df1d",
   "metadata": {},
   "source": [
    "There are a lot. Here are a few.\n",
    "\n",
    "https://www.w3schools.com/python/python_operators.asp\n",
    "\n",
    "\n",
    "\n",
    "\n",
    "##### Assignment Operators:\n",
    "\n",
    "x = 3 --> Assigns 3 to x\n",
    "x += 3 --> Incrementally adds the specified value to an existing variable x\n",
    "\n",
    "\n",
    "##### Mathematical operators:\n",
    "Addition: +    \n",
    "Subtraction: -      \n",
    "\n",
    "##### Comparison operators:\n",
    "Evaluate - \"Is equal\": ==     \n",
    "Evaluate - \"Not equal\": !=    \n",
    "Greater than: >    \n",
    "Less than: <    \n",
    "\n"
   ]
  },
  {
   "cell_type": "markdown",
   "id": "20371703-cf39-4ab4-9894-134e39266a11",
   "metadata": {},
   "source": [
    " "
   ]
  },
  {
   "cell_type": "markdown",
   "id": "c2d95e4d-4e3f-4aed-b123-35d2862963eb",
   "metadata": {},
   "source": [
    " "
   ]
  },
  {
   "cell_type": "markdown",
   "id": "c4bcc98a-7164-4a4b-b559-55cf2f857174",
   "metadata": {},
   "source": [
    "# Control Logic"
   ]
  },
  {
   "cell_type": "code",
   "execution_count": 15,
   "id": "8e698446-8c11-49b1-a240-dedfc52670f3",
   "metadata": {},
   "outputs": [
    {
     "name": "stdout",
     "output_type": "stream",
     "text": [
      "hello\n"
     ]
    }
   ],
   "source": [
    "# if statements\n",
    "x = 2\n",
    "if x == 2:\n",
    "    print('hello')"
   ]
  },
  {
   "cell_type": "code",
   "execution_count": 16,
   "id": "c515129d-507f-48d2-ba4c-d3142cdf7887",
   "metadata": {},
   "outputs": [
    {
     "name": "stdout",
     "output_type": "stream",
     "text": [
      "2\n",
      "3\n",
      "4\n",
      "5\n",
      "6\n",
      "7\n",
      "8\n",
      "9\n",
      "10\n"
     ]
    }
   ],
   "source": [
    "# while loops\n",
    "x = 1\n",
    "while x < 10:\n",
    "    x += 1\n",
    "    print(x)"
   ]
  },
  {
   "cell_type": "code",
   "execution_count": 17,
   "id": "71b2ebf9-9f51-4a37-8e5e-812fe1ee61f1",
   "metadata": {},
   "outputs": [
    {
     "name": "stdout",
     "output_type": "stream",
     "text": [
      "1\n",
      "q\n",
      "7.5\n",
      "5\n",
      "1\n"
     ]
    }
   ],
   "source": [
    "# for loops\n",
    "for thing in my_list:\n",
    "    print(thing)"
   ]
  },
  {
   "cell_type": "markdown",
   "id": "3a7aef84-5042-4742-9bf1-e44db6adcdc4",
   "metadata": {},
   "source": [
    " "
   ]
  },
  {
   "cell_type": "code",
   "execution_count": 18,
   "id": "9bbd6c52-54db-457e-8843-948f679242f3",
   "metadata": {},
   "outputs": [],
   "source": [
    " # Excercise 3: Using the control logic discussed above, create a for loop that iterates through one of your assigned data structures from excercise 2.\n",
    "    \n",
    "    \n",
    "    \n",
    "    \n",
    "    \n",
    "    \n",
    "    "
   ]
  },
  {
   "cell_type": "markdown",
   "id": "6fdc7072-2711-4c0e-a77e-f7e2a02cd58b",
   "metadata": {},
   "source": [
    " "
   ]
  },
  {
   "cell_type": "markdown",
   "id": "37302334-6827-40ee-b9c4-e99c50729041",
   "metadata": {},
   "source": [
    " "
   ]
  },
  {
   "cell_type": "markdown",
   "id": "0d5f6812-fde6-4c9e-8a40-d493ca604e73",
   "metadata": {},
   "source": [
    "# Functions"
   ]
  },
  {
   "cell_type": "code",
   "execution_count": 19,
   "id": "c84a8b68-e778-473c-95e1-1a79a9789244",
   "metadata": {},
   "outputs": [],
   "source": [
    "# creating a function\n",
    "def my_function():\n",
    "    print('this is my function')"
   ]
  },
  {
   "cell_type": "code",
   "execution_count": 20,
   "id": "0b3c5f8d-2f49-42bd-867a-19dd909c268c",
   "metadata": {},
   "outputs": [
    {
     "name": "stdout",
     "output_type": "stream",
     "text": [
      "this is my function\n"
     ]
    }
   ],
   "source": [
    "# calling a function\n",
    "my_function()"
   ]
  },
  {
   "cell_type": "code",
   "execution_count": 21,
   "id": "c8dc2f4f-dcfc-4612-a213-82230f8e9c18",
   "metadata": {},
   "outputs": [],
   "source": [
    "# creating an addition function\n",
    "def my_function(number1, number2):\n",
    "    result = number1 + number2\n",
    "    print(result)"
   ]
  },
  {
   "cell_type": "code",
   "execution_count": 22,
   "id": "e7032a9a-cf6f-4d24-9470-1dc933987049",
   "metadata": {},
   "outputs": [
    {
     "name": "stdout",
     "output_type": "stream",
     "text": [
      "12\n"
     ]
    }
   ],
   "source": [
    "# calling my addition function\n",
    "my_function(5, 7)"
   ]
  },
  {
   "cell_type": "code",
   "execution_count": 23,
   "id": "bb5cfd37-fe10-4f9c-ae4f-457c3029c81f",
   "metadata": {},
   "outputs": [
    {
     "name": "stdout",
     "output_type": "stream",
     "text": [
      "abcdef\n"
     ]
    }
   ],
   "source": [
    "# calling my addition function again (overloaded + operator)\n",
    "my_function('abc', 'def')"
   ]
  },
  {
   "cell_type": "markdown",
   "id": "3e21eb73-f301-4cb6-bc88-cd1e0362003c",
   "metadata": {},
   "source": [
    " "
   ]
  },
  {
   "cell_type": "code",
   "execution_count": 24,
   "id": "0a79af92-2984-4ad7-be8b-94514c5b188c",
   "metadata": {},
   "outputs": [],
   "source": [
    "# Excercise 4: Create a function that prints numbers from 1 to 100. Print 'fizz' instead of the number if that number is divisible by 3, print 'buzz' if the number is divisible by 5, \n",
    "# and print 'fizzbuzz' if the number is divisible by both 3 and 5.\n",
    "\n",
    "\n",
    "\n",
    "\n",
    "\n",
    "\n"
   ]
  },
  {
   "cell_type": "markdown",
   "id": "bbaabb10-7e7b-4c0d-9426-ee3a3fccc1d2",
   "metadata": {},
   "source": [
    " "
   ]
  },
  {
   "cell_type": "markdown",
   "id": "7008812f-c7da-4dc6-9fba-73c608fdaedf",
   "metadata": {},
   "source": [
    " "
   ]
  },
  {
   "cell_type": "markdown",
   "id": "0af787a7-0076-43fe-b2ba-9aa1b4615435",
   "metadata": {},
   "source": [
    " "
   ]
  },
  {
   "cell_type": "markdown",
   "id": "de8b2565-9c89-4e69-b818-c573bcf686ee",
   "metadata": {},
   "source": [
    "# Classes"
   ]
  },
  {
   "cell_type": "code",
   "execution_count": 25,
   "id": "cd941c3e-3081-483c-a7e2-3fd0358353e4",
   "metadata": {},
   "outputs": [],
   "source": [
    "# Creating a base class from which other classes can inherit\n",
    "class pet:\n",
    "        legs = 4\n",
    "\n",
    "# The 'dog' class inherits from the 'pet' class\n",
    "class dog(pet):\n",
    "    def __init__(self):\n",
    "        super().__init__()\n",
    "        self.ears = 'floppy'\n",
    "        self.name = 'Fido'\n",
    "    \n",
    "    def bark(self):\n",
    "        print('woof')\n",
    "        \n",
    "# The 'cat' class ALSO inherits from the 'pet' class\n",
    "class cat(pet):\n",
    "    def __init__(self):\n",
    "        super().__init__()\n",
    "        self.ears = 'pointy'\n",
    "        self.name = 'socks'\n",
    "\n",
    "    def meow(self):\n",
    "        print('meow')"
   ]
  },
  {
   "cell_type": "code",
   "execution_count": 33,
   "id": "0b8c0d00-702f-4ef7-ad47-b43c0ef8be95",
   "metadata": {},
   "outputs": [],
   "source": [
    "# Class examples\n",
    "\n",
    "# instantiation\n",
    "my_dog = dog()\n",
    "\n",
    "# Checking class attributes\n",
    "my_dog.ears\n",
    "\n",
    "my_dog.legs\n",
    "\n",
    "# Calling class method\n",
    "my_dog.bark()"
   ]
  },
  {
   "cell_type": "markdown",
   "id": "f8ad4b14-e153-4ff2-a17f-93306561a30f",
   "metadata": {},
   "source": [
    "# Miscellaneous Tricks:"
   ]
  },
  {
   "cell_type": "code",
   "execution_count": 34,
   "id": "1f094f3c-8dc2-4e80-8a63-7aee405434d4",
   "metadata": {},
   "outputs": [],
   "source": [
    "# Variable assignment tricks\n",
    "a, b, c = 1, 'a', 3"
   ]
  },
  {
   "cell_type": "code",
   "execution_count": 35,
   "id": "3c691eef-3eb8-42c2-8792-8ec3a6c06803",
   "metadata": {},
   "outputs": [
    {
     "name": "stdout",
     "output_type": "stream",
     "text": [
      "1 a 3\n"
     ]
    }
   ],
   "source": [
    "print(a, b, c)"
   ]
  },
  {
   "cell_type": "code",
   "execution_count": 36,
   "id": "916e0864-4490-4574-b35e-9b8b1428a31e",
   "metadata": {},
   "outputs": [],
   "source": [
    "a = b = c = 4"
   ]
  },
  {
   "cell_type": "code",
   "execution_count": 37,
   "id": "16f0e1ea-e950-43e5-911a-b72b4cf8c778",
   "metadata": {},
   "outputs": [
    {
     "data": {
      "text/plain": [
       "[0, 1, 2, 3, 4, 5, 6, 7, 8, 9]"
      ]
     },
     "execution_count": 37,
     "metadata": {},
     "output_type": "execute_result"
    }
   ],
   "source": [
    "# List comprehension\n",
    "[i for i in range(10)]"
   ]
  },
  {
   "cell_type": "markdown",
   "id": "d3993bce-e3cc-498f-bb25-b005640baeb4",
   "metadata": {},
   "source": [
    " \n",
    " \n",
    " \n",
    " "
   ]
  },
  {
   "cell_type": "markdown",
   "id": "1c36a326-9371-47a8-b0d6-c5235bfcfb77",
   "metadata": {},
   "source": [
    " "
   ]
  },
  {
   "cell_type": "markdown",
   "id": "584a04bc-6607-4152-bf80-a6b63b8f6bbf",
   "metadata": {},
   "source": [
    " "
   ]
  },
  {
   "cell_type": "markdown",
   "id": "23cf1cb1-ccc6-4d26-9fe4-f0f735fd760f",
   "metadata": {},
   "source": [
    "# Useful Libraries"
   ]
  },
  {
   "cell_type": "markdown",
   "id": "4840e3f8-ca5d-497e-9fe6-1b6007c8e23a",
   "metadata": {},
   "source": [
    "### Data Wrangling - Numpy, Pandas"
   ]
  },
  {
   "cell_type": "code",
   "execution_count": 38,
   "id": "40bccde6-4ce9-408d-aec1-2816c0067bbe",
   "metadata": {},
   "outputs": [
    {
     "name": "stdout",
     "output_type": "stream",
     "text": [
      "1D Array: [1 2 3 4 5]\n",
      "2D Array:\n",
      "[[1 2 3]\n",
      " [4 5 6]\n",
      " [7 8 9]]\n"
     ]
    }
   ],
   "source": [
    "import numpy as np\n",
    "# Creating a 1D array\n",
    "arr_1d = np.array([1, 2, 3, 4, 5])\n",
    "print(\"1D Array:\", arr_1d)\n",
    "\n",
    "# Creating a 2D array\n",
    "arr_2d = np.array([[1, 2, 3], [4, 5, 6], [7, 8, 9]])\n",
    "print(\"2D Array:\")\n",
    "print(arr_2d)\n"
   ]
  },
  {
   "cell_type": "code",
   "execution_count": 39,
   "id": "779f4a03-f9d8-46bc-9cd4-fb6e166053e6",
   "metadata": {},
   "outputs": [
    {
     "name": "stdout",
     "output_type": "stream",
     "text": [
      "Addition: [ 6  8 10 12]\n",
      "Multiplication: [ 5 12 21 32]\n",
      "Dot Product: 70\n"
     ]
    }
   ],
   "source": [
    "# Element-wise operations\n",
    "arr1 = np.array([1, 2, 3, 4])\n",
    "arr2 = np.array([5, 6, 7, 8])\n",
    "\n",
    "# Addition\n",
    "print(\"Addition:\", arr1 + arr2)\n",
    "\n",
    "# Multiplication\n",
    "print(\"Multiplication:\", arr1 * arr2)\n",
    "\n",
    "# Dot product\n",
    "dot_product = np.dot(arr1, arr2)\n",
    "print(\"Dot Product:\", dot_product)"
   ]
  },
  {
   "cell_type": "markdown",
   "id": "c560935a-f616-4e77-a308-a269384428ca",
   "metadata": {},
   "source": [
    " "
   ]
  },
  {
   "cell_type": "code",
   "execution_count": 40,
   "id": "8439e866-d6d8-4584-a164-9631bff093e7",
   "metadata": {},
   "outputs": [],
   "source": [
    "# Exercise 5: Import numpy, create two arrays, and multiply them element-wise\n",
    "\n",
    "\n",
    "\n",
    "\n"
   ]
  },
  {
   "cell_type": "markdown",
   "id": "bfa9dd5d-719b-4068-9411-a9b5b583c106",
   "metadata": {},
   "source": [
    " "
   ]
  },
  {
   "cell_type": "markdown",
   "id": "2ac5aacb-da85-40bc-9d89-ed0c5eba4776",
   "metadata": {},
   "source": [
    "### Note that a lot of numpy's functions are fairly low-level. It only works with numerical data, but because of the way it is implemented, it is blazingly fast"
   ]
  },
  {
   "cell_type": "markdown",
   "id": "d8e52905-7bf5-43b6-946d-7c4d07e836fe",
   "metadata": {},
   "source": [
    " "
   ]
  },
  {
   "cell_type": "code",
   "execution_count": 2,
   "id": "42299575-17d8-4d41-b8d5-8e3def576d58",
   "metadata": {},
   "outputs": [
    {
     "data": {
      "text/html": [
       "<div>\n",
       "<style scoped>\n",
       "    .dataframe tbody tr th:only-of-type {\n",
       "        vertical-align: middle;\n",
       "    }\n",
       "\n",
       "    .dataframe tbody tr th {\n",
       "        vertical-align: top;\n",
       "    }\n",
       "\n",
       "    .dataframe thead th {\n",
       "        text-align: right;\n",
       "    }\n",
       "</style>\n",
       "<table border=\"1\" class=\"dataframe\">\n",
       "  <thead>\n",
       "    <tr style=\"text-align: right;\">\n",
       "      <th></th>\n",
       "      <th>survived</th>\n",
       "      <th>pclass</th>\n",
       "      <th>sex</th>\n",
       "      <th>age</th>\n",
       "      <th>sibsp</th>\n",
       "      <th>parch</th>\n",
       "      <th>fare</th>\n",
       "      <th>embarked</th>\n",
       "      <th>class</th>\n",
       "      <th>who</th>\n",
       "      <th>adult_male</th>\n",
       "      <th>deck</th>\n",
       "      <th>embark_town</th>\n",
       "      <th>alive</th>\n",
       "      <th>alone</th>\n",
       "    </tr>\n",
       "  </thead>\n",
       "  <tbody>\n",
       "    <tr>\n",
       "      <th>0</th>\n",
       "      <td>0</td>\n",
       "      <td>3</td>\n",
       "      <td>male</td>\n",
       "      <td>22.0</td>\n",
       "      <td>1</td>\n",
       "      <td>0</td>\n",
       "      <td>7.2500</td>\n",
       "      <td>S</td>\n",
       "      <td>Third</td>\n",
       "      <td>man</td>\n",
       "      <td>True</td>\n",
       "      <td>NaN</td>\n",
       "      <td>Southampton</td>\n",
       "      <td>no</td>\n",
       "      <td>False</td>\n",
       "    </tr>\n",
       "    <tr>\n",
       "      <th>1</th>\n",
       "      <td>1</td>\n",
       "      <td>1</td>\n",
       "      <td>female</td>\n",
       "      <td>38.0</td>\n",
       "      <td>1</td>\n",
       "      <td>0</td>\n",
       "      <td>71.2833</td>\n",
       "      <td>C</td>\n",
       "      <td>First</td>\n",
       "      <td>woman</td>\n",
       "      <td>False</td>\n",
       "      <td>C</td>\n",
       "      <td>Cherbourg</td>\n",
       "      <td>yes</td>\n",
       "      <td>False</td>\n",
       "    </tr>\n",
       "    <tr>\n",
       "      <th>2</th>\n",
       "      <td>1</td>\n",
       "      <td>3</td>\n",
       "      <td>female</td>\n",
       "      <td>26.0</td>\n",
       "      <td>0</td>\n",
       "      <td>0</td>\n",
       "      <td>7.9250</td>\n",
       "      <td>S</td>\n",
       "      <td>Third</td>\n",
       "      <td>woman</td>\n",
       "      <td>False</td>\n",
       "      <td>NaN</td>\n",
       "      <td>Southampton</td>\n",
       "      <td>yes</td>\n",
       "      <td>True</td>\n",
       "    </tr>\n",
       "    <tr>\n",
       "      <th>3</th>\n",
       "      <td>1</td>\n",
       "      <td>1</td>\n",
       "      <td>female</td>\n",
       "      <td>35.0</td>\n",
       "      <td>1</td>\n",
       "      <td>0</td>\n",
       "      <td>53.1000</td>\n",
       "      <td>S</td>\n",
       "      <td>First</td>\n",
       "      <td>woman</td>\n",
       "      <td>False</td>\n",
       "      <td>C</td>\n",
       "      <td>Southampton</td>\n",
       "      <td>yes</td>\n",
       "      <td>False</td>\n",
       "    </tr>\n",
       "    <tr>\n",
       "      <th>4</th>\n",
       "      <td>0</td>\n",
       "      <td>3</td>\n",
       "      <td>male</td>\n",
       "      <td>35.0</td>\n",
       "      <td>0</td>\n",
       "      <td>0</td>\n",
       "      <td>8.0500</td>\n",
       "      <td>S</td>\n",
       "      <td>Third</td>\n",
       "      <td>man</td>\n",
       "      <td>True</td>\n",
       "      <td>NaN</td>\n",
       "      <td>Southampton</td>\n",
       "      <td>no</td>\n",
       "      <td>True</td>\n",
       "    </tr>\n",
       "    <tr>\n",
       "      <th>...</th>\n",
       "      <td>...</td>\n",
       "      <td>...</td>\n",
       "      <td>...</td>\n",
       "      <td>...</td>\n",
       "      <td>...</td>\n",
       "      <td>...</td>\n",
       "      <td>...</td>\n",
       "      <td>...</td>\n",
       "      <td>...</td>\n",
       "      <td>...</td>\n",
       "      <td>...</td>\n",
       "      <td>...</td>\n",
       "      <td>...</td>\n",
       "      <td>...</td>\n",
       "      <td>...</td>\n",
       "    </tr>\n",
       "    <tr>\n",
       "      <th>886</th>\n",
       "      <td>0</td>\n",
       "      <td>2</td>\n",
       "      <td>male</td>\n",
       "      <td>27.0</td>\n",
       "      <td>0</td>\n",
       "      <td>0</td>\n",
       "      <td>13.0000</td>\n",
       "      <td>S</td>\n",
       "      <td>Second</td>\n",
       "      <td>man</td>\n",
       "      <td>True</td>\n",
       "      <td>NaN</td>\n",
       "      <td>Southampton</td>\n",
       "      <td>no</td>\n",
       "      <td>True</td>\n",
       "    </tr>\n",
       "    <tr>\n",
       "      <th>887</th>\n",
       "      <td>1</td>\n",
       "      <td>1</td>\n",
       "      <td>female</td>\n",
       "      <td>19.0</td>\n",
       "      <td>0</td>\n",
       "      <td>0</td>\n",
       "      <td>30.0000</td>\n",
       "      <td>S</td>\n",
       "      <td>First</td>\n",
       "      <td>woman</td>\n",
       "      <td>False</td>\n",
       "      <td>B</td>\n",
       "      <td>Southampton</td>\n",
       "      <td>yes</td>\n",
       "      <td>True</td>\n",
       "    </tr>\n",
       "    <tr>\n",
       "      <th>888</th>\n",
       "      <td>0</td>\n",
       "      <td>3</td>\n",
       "      <td>female</td>\n",
       "      <td>NaN</td>\n",
       "      <td>1</td>\n",
       "      <td>2</td>\n",
       "      <td>23.4500</td>\n",
       "      <td>S</td>\n",
       "      <td>Third</td>\n",
       "      <td>woman</td>\n",
       "      <td>False</td>\n",
       "      <td>NaN</td>\n",
       "      <td>Southampton</td>\n",
       "      <td>no</td>\n",
       "      <td>False</td>\n",
       "    </tr>\n",
       "    <tr>\n",
       "      <th>889</th>\n",
       "      <td>1</td>\n",
       "      <td>1</td>\n",
       "      <td>male</td>\n",
       "      <td>26.0</td>\n",
       "      <td>0</td>\n",
       "      <td>0</td>\n",
       "      <td>30.0000</td>\n",
       "      <td>C</td>\n",
       "      <td>First</td>\n",
       "      <td>man</td>\n",
       "      <td>True</td>\n",
       "      <td>C</td>\n",
       "      <td>Cherbourg</td>\n",
       "      <td>yes</td>\n",
       "      <td>True</td>\n",
       "    </tr>\n",
       "    <tr>\n",
       "      <th>890</th>\n",
       "      <td>0</td>\n",
       "      <td>3</td>\n",
       "      <td>male</td>\n",
       "      <td>32.0</td>\n",
       "      <td>0</td>\n",
       "      <td>0</td>\n",
       "      <td>7.7500</td>\n",
       "      <td>Q</td>\n",
       "      <td>Third</td>\n",
       "      <td>man</td>\n",
       "      <td>True</td>\n",
       "      <td>NaN</td>\n",
       "      <td>Queenstown</td>\n",
       "      <td>no</td>\n",
       "      <td>True</td>\n",
       "    </tr>\n",
       "  </tbody>\n",
       "</table>\n",
       "<p>891 rows × 15 columns</p>\n",
       "</div>"
      ],
      "text/plain": [
       "     survived  pclass     sex   age  sibsp  parch     fare embarked   class  \\\n",
       "0           0       3    male  22.0      1      0   7.2500        S   Third   \n",
       "1           1       1  female  38.0      1      0  71.2833        C   First   \n",
       "2           1       3  female  26.0      0      0   7.9250        S   Third   \n",
       "3           1       1  female  35.0      1      0  53.1000        S   First   \n",
       "4           0       3    male  35.0      0      0   8.0500        S   Third   \n",
       "..        ...     ...     ...   ...    ...    ...      ...      ...     ...   \n",
       "886         0       2    male  27.0      0      0  13.0000        S  Second   \n",
       "887         1       1  female  19.0      0      0  30.0000        S   First   \n",
       "888         0       3  female   NaN      1      2  23.4500        S   Third   \n",
       "889         1       1    male  26.0      0      0  30.0000        C   First   \n",
       "890         0       3    male  32.0      0      0   7.7500        Q   Third   \n",
       "\n",
       "       who  adult_male deck  embark_town alive  alone  \n",
       "0      man        True  NaN  Southampton    no  False  \n",
       "1    woman       False    C    Cherbourg   yes  False  \n",
       "2    woman       False  NaN  Southampton   yes   True  \n",
       "3    woman       False    C  Southampton   yes  False  \n",
       "4      man        True  NaN  Southampton    no   True  \n",
       "..     ...         ...  ...          ...   ...    ...  \n",
       "886    man        True  NaN  Southampton    no   True  \n",
       "887  woman       False    B  Southampton   yes   True  \n",
       "888  woman       False  NaN  Southampton    no  False  \n",
       "889    man        True    C    Cherbourg   yes   True  \n",
       "890    man        True  NaN   Queenstown    no   True  \n",
       "\n",
       "[891 rows x 15 columns]"
      ]
     },
     "execution_count": 2,
     "metadata": {},
     "output_type": "execute_result"
    }
   ],
   "source": [
    "import seaborn as sns\n",
    "import pandas as pd\n",
    "\n",
    "t_df = sns.load_dataset('titanic', cache=False)\n",
    "t_df"
   ]
  },
  {
   "cell_type": "code",
   "execution_count": 42,
   "id": "ad5eea2f-1ab2-47d9-aa45-2d07d7093ed6",
   "metadata": {},
   "outputs": [
    {
     "data": {
      "text/plain": [
       "29.69911764705882"
      ]
     },
     "execution_count": 42,
     "metadata": {},
     "output_type": "execute_result"
    }
   ],
   "source": [
    "# Get the mean age of passengers\n",
    "t_df['age'].mean()"
   ]
  },
  {
   "cell_type": "code",
   "execution_count": 43,
   "id": "e1218bdd-4e75-4636-b7dc-a9e1a642ba7e",
   "metadata": {},
   "outputs": [
    {
     "data": {
      "text/plain": [
       "sex\n",
       "female    27.915709\n",
       "male      30.726645\n",
       "Name: age, dtype: float64"
      ]
     },
     "execution_count": 43,
     "metadata": {},
     "output_type": "execute_result"
    }
   ],
   "source": [
    "# Get the mean age of passengers split by gender\n",
    "t_df.groupby('sex')['age'].mean()"
   ]
  },
  {
   "cell_type": "code",
   "execution_count": 44,
   "id": "4eebca3e-861e-4a0c-851b-d69d5a6a5a2c",
   "metadata": {},
   "outputs": [
    {
     "data": {
      "text/plain": [
       "class\n",
       "First     0.629630\n",
       "Second    0.472826\n",
       "Third     0.242363\n",
       "Name: survived, dtype: float64"
      ]
     },
     "execution_count": 44,
     "metadata": {},
     "output_type": "execute_result"
    }
   ],
   "source": [
    "# Get the survival rates of different ticket classes\n",
    "t_df.groupby('class')['survived'].mean()"
   ]
  },
  {
   "cell_type": "code",
   "execution_count": 45,
   "id": "c8847707-9a31-4053-a762-7b1e6bdd3d09",
   "metadata": {},
   "outputs": [
    {
     "data": {
      "text/plain": [
       "adult_male\n",
       "True     0.163873\n",
       "False    0.717514\n",
       "Name: survived, dtype: float64"
      ]
     },
     "execution_count": 45,
     "metadata": {},
     "output_type": "execute_result"
    }
   ],
   "source": [
    "# Get the survival rates by adult_male status\n",
    "t_df.groupby('adult_male')['survived'].mean().sort_index(ascending=False)"
   ]
  },
  {
   "cell_type": "code",
   "execution_count": 46,
   "id": "bea26255-d8ec-4878-a1a9-d3999884a18f",
   "metadata": {},
   "outputs": [],
   "source": [
    "# Add mean age by gender to the original dataframe\n",
    "t_df['Age_Gender_mean'] = t_df.groupby('sex')['age'].transform('mean')"
   ]
  },
  {
   "cell_type": "code",
   "execution_count": 47,
   "id": "c712250c-a301-4ea5-8e40-0e8b204010d7",
   "metadata": {},
   "outputs": [
    {
     "data": {
      "text/html": [
       "<div>\n",
       "<style scoped>\n",
       "    .dataframe tbody tr th:only-of-type {\n",
       "        vertical-align: middle;\n",
       "    }\n",
       "\n",
       "    .dataframe tbody tr th {\n",
       "        vertical-align: top;\n",
       "    }\n",
       "\n",
       "    .dataframe thead th {\n",
       "        text-align: right;\n",
       "    }\n",
       "</style>\n",
       "<table border=\"1\" class=\"dataframe\">\n",
       "  <thead>\n",
       "    <tr style=\"text-align: right;\">\n",
       "      <th></th>\n",
       "      <th></th>\n",
       "      <th>survived</th>\n",
       "    </tr>\n",
       "    <tr>\n",
       "      <th>class</th>\n",
       "      <th>sex</th>\n",
       "      <th></th>\n",
       "    </tr>\n",
       "  </thead>\n",
       "  <tbody>\n",
       "    <tr>\n",
       "      <th rowspan=\"2\" valign=\"top\">First</th>\n",
       "      <th>female</th>\n",
       "      <td>0.968085</td>\n",
       "    </tr>\n",
       "    <tr>\n",
       "      <th>male</th>\n",
       "      <td>0.368852</td>\n",
       "    </tr>\n",
       "    <tr>\n",
       "      <th rowspan=\"2\" valign=\"top\">Second</th>\n",
       "      <th>female</th>\n",
       "      <td>0.921053</td>\n",
       "    </tr>\n",
       "    <tr>\n",
       "      <th>male</th>\n",
       "      <td>0.157407</td>\n",
       "    </tr>\n",
       "    <tr>\n",
       "      <th rowspan=\"2\" valign=\"top\">Third</th>\n",
       "      <th>female</th>\n",
       "      <td>0.500000</td>\n",
       "    </tr>\n",
       "    <tr>\n",
       "      <th>male</th>\n",
       "      <td>0.135447</td>\n",
       "    </tr>\n",
       "  </tbody>\n",
       "</table>\n",
       "</div>"
      ],
      "text/plain": [
       "               survived\n",
       "class  sex             \n",
       "First  female  0.968085\n",
       "       male    0.368852\n",
       "Second female  0.921053\n",
       "       male    0.157407\n",
       "Third  female  0.500000\n",
       "       male    0.135447"
      ]
     },
     "execution_count": 47,
     "metadata": {},
     "output_type": "execute_result"
    }
   ],
   "source": [
    "# Create a pivot table showing survival rates by ticket class and sex\n",
    "t_df.pivot_table('survived', index=['class', 'sex'])"
   ]
  },
  {
   "cell_type": "markdown",
   "id": "b014250f-2891-4b9a-8efc-2014623cd4bd",
   "metadata": {},
   "source": [
    "### Data Visualization - Matplotlib, Seaborn"
   ]
  },
  {
   "cell_type": "markdown",
   "id": "caaa3ee5-d93f-4c47-bf6f-cd20b452622b",
   "metadata": {},
   "source": [
    "Note: Both of these libraries do essentially the same thing. The main difference is that matplotlib allows for very precise control over the plots created, whereas seaborn\n",
    "requires you give up some of this control for a more streamlined process."
   ]
  },
  {
   "cell_type": "code",
   "execution_count": 48,
   "id": "c99a2b32-c4a3-4cff-93ab-0f87d8a2f7bb",
   "metadata": {
    "tags": []
   },
   "outputs": [
    {
     "data": {
      "text/plain": [
       "Text(0.5, 0.98, 'Age by Gender')"
      ]
     },
     "execution_count": 48,
     "metadata": {},
     "output_type": "execute_result"
    },
    {
     "data": {
      "image/png": "[encoded data removed]",
      "text/plain": [
       "<Figure size 640x480 with 1 Axes>"
      ]
     },
     "metadata": {},
     "output_type": "display_data"
    }
   ],
   "source": [
    "import matplotlib.pyplot as plt\n",
    "\n",
    "# Boxplot of age by Gender\n",
    "fig1, ax1 = plt.subplots()\n",
    "t_df.boxplot(ax=ax1, column = 'age', by='sex', notch=True, showmeans=True)\n",
    "ax1.set_xlabel('$Gender$')\n",
    "ax1.set_ylabel('$Age$')\n",
    "ax1.set_title('')\n",
    "fig1.suptitle('Age by Gender')"
   ]
  },
  {
   "cell_type": "code",
   "execution_count": 49,
   "id": "6542329c-3420-41a6-a8c9-3519746fbe6f",
   "metadata": {},
   "outputs": [
    {
     "data": {
      "text/plain": [
       "<matplotlib.legend.Legend at 0x254225ab5e0>"
      ]
     },
     "execution_count": 49,
     "metadata": {},
     "output_type": "execute_result"
    },
    {
     "data": {
      "image/png": "[encoded data removed]",
      "text/plain": [
       "<Figure size 640x480 with 1 Axes>"
      ]
     },
     "metadata": {},
     "output_type": "display_data"
    }
   ],
   "source": [
    "# Scatterplot of fare by age, colored based on survival\n",
    "\n",
    "fig2, ax2 = plt.subplots()\n",
    "t_df.loc[t_df['survived']==0].plot.scatter(ax=ax2, x='age', y='fare', \n",
    "                                           colorbar=False, label='Drowned', c='red')\n",
    "t_df.loc[t_df['survived']==1].plot.scatter(ax=ax2, x='age', y='fare', colorbar=False, \n",
    "                                           label='Survived', c='blue')\n",
    "ax2.legend(['Drowned', 'Survived'])"
   ]
  },
  {
   "cell_type": "code",
   "execution_count": 50,
   "id": "d89751c0-0715-49aa-a7fd-89b5b6cea2ca",
   "metadata": {},
   "outputs": [
    {
     "data": {
      "text/plain": [
       "<Axes: xlabel='sex,survived'>"
      ]
     },
     "execution_count": 50,
     "metadata": {},
     "output_type": "execute_result"
    },
    {
     "data": {
      "image/png": "[encoded data removed]",
      "text/plain": [
       "<Figure size 640x480 with 1 Axes>"
      ]
     },
     "metadata": {},
     "output_type": "display_data"
    }
   ],
   "source": [
    "# Barplot of gender and survival\n",
    "fig3, ax3 = plt.subplots()\n",
    "t_df.groupby('sex')['survived'].value_counts().plot.bar(ax=ax3)"
   ]
  },
  {
   "cell_type": "code",
   "execution_count": 51,
   "id": "001bde68-610f-4e65-bb65-d9b638d377ea",
   "metadata": {},
   "outputs": [
    {
     "data": {
      "image/png": "[encoded data removed]",
      "text/plain": [
       "<Figure size 640x480 with 1 Axes>"
      ]
     },
     "metadata": {},
     "output_type": "display_data"
    }
   ],
   "source": [
    "# Seaborn boxplot of age by gender\n",
    "bplot = sns.boxplot(data=t_df, x='sex', y='age', order=['female', 'male'], width=.2)"
   ]
  },
  {
   "cell_type": "code",
   "execution_count": 52,
   "id": "43ca0723-b8f5-4742-b5c0-e65f5e98ec53",
   "metadata": {},
   "outputs": [],
   "source": [
    "# Exercise 6: Make a boxplot using seaborn with different variables\n",
    "\n",
    "\n",
    "\n"
   ]
  },
  {
   "cell_type": "markdown",
   "id": "b89a79cd-8af7-4bbb-9a1a-fa7f324f2e4d",
   "metadata": {},
   "source": [
    "### Statistics - Scipy"
   ]
  },
  {
   "cell_type": "code",
   "execution_count": 53,
   "id": "fe086afb-bfd8-4a5e-b033-ab69c974d54e",
   "metadata": {},
   "outputs": [],
   "source": [
    "# Chi Square test\n",
    "import scipy.stats"
   ]
  },
  {
   "cell_type": "code",
   "execution_count": 54,
   "id": "9d685b36-03ee-4fbd-85a2-556bdac63592",
   "metadata": {},
   "outputs": [
    {
     "data": {
      "text/html": [
       "<div>\n",
       "<style scoped>\n",
       "    .dataframe tbody tr th:only-of-type {\n",
       "        vertical-align: middle;\n",
       "    }\n",
       "\n",
       "    .dataframe tbody tr th {\n",
       "        vertical-align: top;\n",
       "    }\n",
       "\n",
       "    .dataframe thead th {\n",
       "        text-align: right;\n",
       "    }\n",
       "</style>\n",
       "<table border=\"1\" class=\"dataframe\">\n",
       "  <thead>\n",
       "    <tr style=\"text-align: right;\">\n",
       "      <th>sex</th>\n",
       "      <th>female</th>\n",
       "      <th>male</th>\n",
       "    </tr>\n",
       "    <tr>\n",
       "      <th>survived</th>\n",
       "      <th></th>\n",
       "      <th></th>\n",
       "    </tr>\n",
       "  </thead>\n",
       "  <tbody>\n",
       "    <tr>\n",
       "      <th>0</th>\n",
       "      <td>81</td>\n",
       "      <td>468</td>\n",
       "    </tr>\n",
       "    <tr>\n",
       "      <th>1</th>\n",
       "      <td>233</td>\n",
       "      <td>109</td>\n",
       "    </tr>\n",
       "  </tbody>\n",
       "</table>\n",
       "</div>"
      ],
      "text/plain": [
       "sex       female  male\n",
       "survived              \n",
       "0             81   468\n",
       "1            233   109"
      ]
     },
     "execution_count": 54,
     "metadata": {},
     "output_type": "execute_result"
    }
   ],
   "source": [
    "contingency_table = t_df.groupby('sex')['survived'].value_counts()\n",
    "contingency_table.unstack(0)"
   ]
  },
  {
   "cell_type": "code",
   "execution_count": 55,
   "id": "38167bca-beef-4d8d-bc91-5c69a7c36042",
   "metadata": {},
   "outputs": [
    {
     "data": {
      "text/plain": [
       "1.1973570627755645e-58"
      ]
     },
     "execution_count": 55,
     "metadata": {},
     "output_type": "execute_result"
    }
   ],
   "source": [
    "table = np.array([[81,468],[233,109]])\n",
    "result = scipy.stats.chi2_contingency(table)\n",
    "result.statistic\n",
    "result.pvalue"
   ]
  },
  {
   "cell_type": "code",
   "execution_count": 59,
   "id": "e6b4f7e2-2525-464e-ba5b-8b3b0ddd3d52",
   "metadata": {},
   "outputs": [
    {
     "data": {
      "text/plain": [
       "4.549251711298793e-23"
      ]
     },
     "execution_count": 59,
     "metadata": {},
     "output_type": "execute_result"
    }
   ],
   "source": [
    "# Exercise 7: Perform a chi square test with survival and passenger class\n",
    "\n",
    "contingency_table = t_df.groupby('class')['survived'].value_counts()\n",
    "contingency_table.unstack(0)\n",
    "\n",
    "table = np.array([[80,97,372],[136,87,119]])\n",
    "result = scipy.stats.chi2_contingency(table)\n",
    "result.statistic\n",
    "result.pvalue"
   ]
  },
  {
   "cell_type": "markdown",
   "id": "cbc1b5ff-6a84-435c-be12-9da505002141",
   "metadata": {
    "tags": []
   },
   "source": [
    "# IR Case Study - Compare success (A, B, C, CR) in ENGL-1301 between campuses over time"
   ]
  },
  {
   "cell_type": "code",
   "execution_count": 60,
   "id": "2a8b21a6-d3f1-439b-ae2e-ce29b0d0c77c",
   "metadata": {},
   "outputs": [],
   "source": [
    "# Custom functions written in our department\n",
    "# Note: These won't work without the source code\n",
    "from irpy.functions import Mung\n",
    "from irpy.utilities import Term_to_Numeric"
   ]
  },
  {
   "cell_type": "code",
   "execution_count": 93,
   "id": "7ac01b23-7353-45d2-90e7-49f7d386bd71",
   "metadata": {},
   "outputs": [],
   "source": [
    "my_data = pd.read_csv('sample_data.csv')"
   ]
  },
  {
   "cell_type": "code",
   "execution_count": 94,
   "id": "b406310d-80c6-4450-a093-08cb1b12ae36",
   "metadata": {},
   "outputs": [
    {
     "data": {
      "text/html": [
       "<div>\n",
       "<style scoped>\n",
       "    .dataframe tbody tr th:only-of-type {\n",
       "        vertical-align: middle;\n",
       "    }\n",
       "\n",
       "    .dataframe tbody tr th {\n",
       "        vertical-align: top;\n",
       "    }\n",
       "\n",
       "    .dataframe thead th {\n",
       "        text-align: right;\n",
       "    }\n",
       "</style>\n",
       "<table border=\"1\" class=\"dataframe\">\n",
       "  <thead>\n",
       "    <tr style=\"text-align: right;\">\n",
       "      <th></th>\n",
       "      <th>TERM</th>\n",
       "      <th>STUDENT_ID</th>\n",
       "      <th>COURSE</th>\n",
       "      <th>CAMPUS</th>\n",
       "      <th>GRADE</th>\n",
       "    </tr>\n",
       "  </thead>\n",
       "  <tbody>\n",
       "    <tr>\n",
       "      <th>0</th>\n",
       "      <td>2021FL</td>\n",
       "      <td>zpomxyc</td>\n",
       "      <td>ENGL-1301</td>\n",
       "      <td>SE</td>\n",
       "      <td>B</td>\n",
       "    </tr>\n",
       "    <tr>\n",
       "      <th>1</th>\n",
       "      <td>2021FL</td>\n",
       "      <td>npfrrgi</td>\n",
       "      <td>ENGL-1301</td>\n",
       "      <td>NE</td>\n",
       "      <td>F</td>\n",
       "    </tr>\n",
       "    <tr>\n",
       "      <th>2</th>\n",
       "      <td>2021FL</td>\n",
       "      <td>fzapltz</td>\n",
       "      <td>ENGL-1301</td>\n",
       "      <td>SO</td>\n",
       "      <td>B</td>\n",
       "    </tr>\n",
       "    <tr>\n",
       "      <th>3</th>\n",
       "      <td>2021FL</td>\n",
       "      <td>xvvdykp</td>\n",
       "      <td>ENGL-1301</td>\n",
       "      <td>NW</td>\n",
       "      <td>CR</td>\n",
       "    </tr>\n",
       "    <tr>\n",
       "      <th>4</th>\n",
       "      <td>2021FL</td>\n",
       "      <td>zkgjyqz</td>\n",
       "      <td>ENGL-1301</td>\n",
       "      <td>SO</td>\n",
       "      <td>D</td>\n",
       "    </tr>\n",
       "    <tr>\n",
       "      <th>...</th>\n",
       "      <td>...</td>\n",
       "      <td>...</td>\n",
       "      <td>...</td>\n",
       "      <td>...</td>\n",
       "      <td>...</td>\n",
       "    </tr>\n",
       "    <tr>\n",
       "      <th>24995</th>\n",
       "      <td>2023FL</td>\n",
       "      <td>itcbpfh</td>\n",
       "      <td>ENGL-1301</td>\n",
       "      <td>TR</td>\n",
       "      <td>F</td>\n",
       "    </tr>\n",
       "    <tr>\n",
       "      <th>24996</th>\n",
       "      <td>2023FL</td>\n",
       "      <td>yxzklon</td>\n",
       "      <td>ENGL-1301</td>\n",
       "      <td>SE</td>\n",
       "      <td>A</td>\n",
       "    </tr>\n",
       "    <tr>\n",
       "      <th>24997</th>\n",
       "      <td>2023FL</td>\n",
       "      <td>mvjolaa</td>\n",
       "      <td>ENGL-1301</td>\n",
       "      <td>SO</td>\n",
       "      <td>B</td>\n",
       "    </tr>\n",
       "    <tr>\n",
       "      <th>24998</th>\n",
       "      <td>2023FL</td>\n",
       "      <td>lqmsszq</td>\n",
       "      <td>ENGL-1301</td>\n",
       "      <td>SO</td>\n",
       "      <td>B</td>\n",
       "    </tr>\n",
       "    <tr>\n",
       "      <th>24999</th>\n",
       "      <td>2023FL</td>\n",
       "      <td>awpupqc</td>\n",
       "      <td>ENGL-1301</td>\n",
       "      <td>SO</td>\n",
       "      <td>F</td>\n",
       "    </tr>\n",
       "  </tbody>\n",
       "</table>\n",
       "<p>25000 rows × 5 columns</p>\n",
       "</div>"
      ],
      "text/plain": [
       "         TERM STUDENT_ID     COURSE CAMPUS GRADE\n",
       "0      2021FL    zpomxyc  ENGL-1301     SE     B\n",
       "1      2021FL    npfrrgi  ENGL-1301     NE     F\n",
       "2      2021FL    fzapltz  ENGL-1301     SO     B\n",
       "3      2021FL    xvvdykp  ENGL-1301     NW    CR\n",
       "4      2021FL    zkgjyqz  ENGL-1301     SO     D\n",
       "...       ...        ...        ...    ...   ...\n",
       "24995  2023FL    itcbpfh  ENGL-1301     TR     F\n",
       "24996  2023FL    yxzklon  ENGL-1301     SE     A\n",
       "24997  2023FL    mvjolaa  ENGL-1301     SO     B\n",
       "24998  2023FL    lqmsszq  ENGL-1301     SO     B\n",
       "24999  2023FL    awpupqc  ENGL-1301     SO     F\n",
       "\n",
       "[25000 rows x 5 columns]"
      ]
     },
     "execution_count": 94,
     "metadata": {},
     "output_type": "execute_result"
    }
   ],
   "source": [
    "my_data"
   ]
  },
  {
   "cell_type": "code",
   "execution_count": 95,
   "id": "bfdc84fc-0478-4781-8266-d84feceb4edd",
   "metadata": {},
   "outputs": [],
   "source": [
    "conditions = [\n",
    "            (my_data['GRADE']=='A')|(my_data['GRADE']=='B')|(my_data['GRADE']=='C')|(my_data['GRADE']=='CR'),\n",
    "            (my_data['GRADE']=='D')|(my_data['GRADE']=='F')|(my_data['GRADE']=='W')|(my_data['GRADE']=='NC')|(my_data['GRADE']=='I')\n",
    "            ]\n",
    "values = [1,0]\n",
    "my_data = my_data.assign(success=np.select(conditions, values, default=np.nan))"
   ]
  },
  {
   "cell_type": "code",
   "execution_count": 96,
   "id": "b7b71bab-d02b-42a3-b8f9-019bdc0daf1d",
   "metadata": {},
   "outputs": [],
   "source": [
    "def Term_to_Numeric(term,UGorigin=2003,CEorigin=2001):\n",
    "        '''\n",
    "        Maps UG and CE terms to a number \n",
    "        (default UG terms start on 2003FL=0)\n",
    "        (default CE terms start on 2001Q1=-11)\n",
    "        '''\n",
    "        if 'FL' in term:\n",
    "            return (int(term[:4])-UGorigin)*3\n",
    "        elif 'SP' in term:\n",
    "            return (int(term[:4])-UGorigin-1)*3+1\n",
    "        elif 'SU' in term:\n",
    "            return (int(term[:4])-UGorigin-1)*3+2\n",
    "        \n",
    "        elif 'Q1' in term:\n",
    "            return (int(term[:4])-CEorigin)*4-11\n",
    "        elif 'Q2' in term:\n",
    "            return (int(term[:4])-CEorigin)*4+1-11\n",
    "        elif 'Q3' in term:\n",
    "            return (int(term[:4])-1-CEorigin)*4+2-11\n",
    "        elif 'Q4' in term:\n",
    "            return (int(term[:4])-1-CEorigin)*4+3-11\n",
    "        \n",
    "        else:\n",
    "            return -999"
   ]
  },
  {
   "cell_type": "code",
   "execution_count": 97,
   "id": "5782f9f1-947e-4e79-be41-47f2daabbe65",
   "metadata": {},
   "outputs": [],
   "source": [
    "my_data['Term_Num'] = my_data.apply(lambda row: Term_to_Numeric(row['TERM']), axis = 1)"
   ]
  },
  {
   "cell_type": "code",
   "execution_count": 98,
   "id": "4068eccf-f167-4631-9502-9392c4a593b7",
   "metadata": {},
   "outputs": [],
   "source": [
    "result = my_data.groupby(['TERM', 'CAMPUS']).success.value_counts(normalize=True).unstack(2)"
   ]
  },
  {
   "cell_type": "code",
   "execution_count": 84,
   "id": "e110e798-3315-4baf-b6b5-e450bf46cce8",
   "metadata": {},
   "outputs": [],
   "source": [
    "result = result.drop(columns = [0.0])"
   ]
  },
  {
   "cell_type": "code",
   "execution_count": 87,
   "id": "afec50c5-2e74-4ec2-aedd-63e966df5a50",
   "metadata": {},
   "outputs": [],
   "source": [
    "result = result.unstack(1)"
   ]
  },
  {
   "cell_type": "code",
   "execution_count": 88,
   "id": "71abfa37-b146-47b9-8628-121002979de9",
   "metadata": {},
   "outputs": [],
   "source": [
    "IR_colormap = {'black':'#000000', \n",
    "               'bluegray':'#44546A', \n",
    "               'lightgray':'#E7E6E6', \n",
    "               'navy':'#244061', \n",
    "               'lime':'#64A038', \n",
    "               'gray':'#A5A5A5', \n",
    "               'aqua':'#028AB2', \n",
    "               'babyblue':'#7CE0FD', \n",
    "               'lightlime':'#A0D17C'}"
   ]
  },
  {
   "cell_type": "code",
   "execution_count": 89,
   "id": "d3e958cf-ccd1-484f-a79f-f5d3550465ca",
   "metadata": {},
   "outputs": [],
   "source": [
    "colors = list(IR_colormap.values())"
   ]
  },
  {
   "cell_type": "code",
   "execution_count": 90,
   "id": "b6c49b04-92e4-4cfd-b15e-cd035fe73d81",
   "metadata": {},
   "outputs": [],
   "source": [
    "from matplotlib.colors import LinearSegmentedColormap, ListedColormap\n",
    "import matplotlib as mpl\n",
    "cmap1 = ListedColormap(colors)"
   ]
  },
  {
   "cell_type": "code",
   "execution_count": 92,
   "id": "cb3fee72-104b-4eb4-831b-776313428a19",
   "metadata": {},
   "outputs": [
    {
     "data": {
      "text/plain": [
       "(0.5, 0.7)"
      ]
     },
     "execution_count": 92,
     "metadata": {},
     "output_type": "execute_result"
    },
    {
     "data": {
      "image/png": "[encoded data removed]",
      "text/plain": [
       "<Figure size 640x480 with 1 Axes>"
      ]
     },
     "metadata": {},
     "output_type": "display_data"
    }
   ],
   "source": [
    "fig4, ax4 = plt.subplots()\n",
    "result.plot(ax=ax4, cmap=cmap1)\n",
    "fig4.suptitle('ENGL-1301 Success Rates')\n",
    "ax4.set_ylabel('Campus Success Rate (A, B, C, CR)')\n",
    "ax4.set_ylim([0.5, 0.7])"
   ]
  },
  {
   "cell_type": "markdown",
   "id": "5821b783-c045-4792-94ae-91d0f56a2f0d",
   "metadata": {},
   "source": [
    "# Extra Resources"
   ]
  },
  {
   "cell_type": "markdown",
   "id": "739a5e1a-5377-46e1-b137-63e63d0e9015",
   "metadata": {
    "slideshow": {
     "slide_type": "slide"
    }
   },
   "source": [
    "## Google  \n",
    "\n",
    "### Environment Management tools:   \n",
    "Miniconda - https://www.youtube.com/watch?v=XCvgyvBFjyM   \n",
    "https://docs.anaconda.com/free/miniconda/index.html   \n",
    "pyenv (or pyenv-win)\n",
    "\n",
    "\n",
    "Pandas Tutor - https://pandastutor.com/   \n",
    "Stack Overflow - https://stackoverflow.com/   \n",
    "Stack Exchange - https://stackexchange.com/   \n",
    "Youtube (Data Talks, Tech with Tim)  \n",
    "Automate the Boring Stuff - https://automatetheboringstuff.com/   \n",
    "Beyond the Basic Stuff - https://inventwithpython.com/beyond/   \n",
    "\n",
    "### Link to This Presentation's Materials:   \n",
    "https://github.com/educationalCode/Workshop"
   ]
  },
  {
   "cell_type": "code",
   "execution_count": 3,
   "id": "cc4d1271-f5ae-490e-bd50-471ebfbf4980",
   "metadata": {},
   "outputs": [
    {
     "data": {
      "text/html": [
       "<div>\n",
       "<style scoped>\n",
       "    .dataframe tbody tr th:only-of-type {\n",
       "        vertical-align: middle;\n",
       "    }\n",
       "\n",
       "    .dataframe tbody tr th {\n",
       "        vertical-align: top;\n",
       "    }\n",
       "\n",
       "    .dataframe thead th {\n",
       "        text-align: right;\n",
       "    }\n",
       "</style>\n",
       "<table border=\"1\" class=\"dataframe\">\n",
       "  <thead>\n",
       "    <tr style=\"text-align: right;\">\n",
       "      <th></th>\n",
       "      <th>survived</th>\n",
       "      <th>pclass</th>\n",
       "      <th>sex</th>\n",
       "      <th>age</th>\n",
       "      <th>sibsp</th>\n",
       "      <th>parch</th>\n",
       "      <th>fare</th>\n",
       "      <th>embarked</th>\n",
       "      <th>class</th>\n",
       "      <th>who</th>\n",
       "      <th>adult_male</th>\n",
       "      <th>deck</th>\n",
       "      <th>embark_town</th>\n",
       "      <th>alive</th>\n",
       "      <th>alone</th>\n",
       "    </tr>\n",
       "  </thead>\n",
       "  <tbody>\n",
       "    <tr>\n",
       "      <th>0</th>\n",
       "      <td>0</td>\n",
       "      <td>3</td>\n",
       "      <td>male</td>\n",
       "      <td>22.0</td>\n",
       "      <td>1</td>\n",
       "      <td>0</td>\n",
       "      <td>7.2500</td>\n",
       "      <td>S</td>\n",
       "      <td>Third</td>\n",
       "      <td>man</td>\n",
       "      <td>True</td>\n",
       "      <td>NaN</td>\n",
       "      <td>Southampton</td>\n",
       "      <td>no</td>\n",
       "      <td>False</td>\n",
       "    </tr>\n",
       "    <tr>\n",
       "      <th>1</th>\n",
       "      <td>1</td>\n",
       "      <td>1</td>\n",
       "      <td>female</td>\n",
       "      <td>38.0</td>\n",
       "      <td>1</td>\n",
       "      <td>0</td>\n",
       "      <td>71.2833</td>\n",
       "      <td>C</td>\n",
       "      <td>First</td>\n",
       "      <td>woman</td>\n",
       "      <td>False</td>\n",
       "      <td>C</td>\n",
       "      <td>Cherbourg</td>\n",
       "      <td>yes</td>\n",
       "      <td>False</td>\n",
       "    </tr>\n",
       "    <tr>\n",
       "      <th>2</th>\n",
       "      <td>1</td>\n",
       "      <td>3</td>\n",
       "      <td>female</td>\n",
       "      <td>26.0</td>\n",
       "      <td>0</td>\n",
       "      <td>0</td>\n",
       "      <td>7.9250</td>\n",
       "      <td>S</td>\n",
       "      <td>Third</td>\n",
       "      <td>woman</td>\n",
       "      <td>False</td>\n",
       "      <td>NaN</td>\n",
       "      <td>Southampton</td>\n",
       "      <td>yes</td>\n",
       "      <td>True</td>\n",
       "    </tr>\n",
       "    <tr>\n",
       "      <th>3</th>\n",
       "      <td>1</td>\n",
       "      <td>1</td>\n",
       "      <td>female</td>\n",
       "      <td>35.0</td>\n",
       "      <td>1</td>\n",
       "      <td>0</td>\n",
       "      <td>53.1000</td>\n",
       "      <td>S</td>\n",
       "      <td>First</td>\n",
       "      <td>woman</td>\n",
       "      <td>False</td>\n",
       "      <td>C</td>\n",
       "      <td>Southampton</td>\n",
       "      <td>yes</td>\n",
       "      <td>False</td>\n",
       "    </tr>\n",
       "    <tr>\n",
       "      <th>4</th>\n",
       "      <td>0</td>\n",
       "      <td>3</td>\n",
       "      <td>male</td>\n",
       "      <td>35.0</td>\n",
       "      <td>0</td>\n",
       "      <td>0</td>\n",
       "      <td>8.0500</td>\n",
       "      <td>S</td>\n",
       "      <td>Third</td>\n",
       "      <td>man</td>\n",
       "      <td>True</td>\n",
       "      <td>NaN</td>\n",
       "      <td>Southampton</td>\n",
       "      <td>no</td>\n",
       "      <td>True</td>\n",
       "    </tr>\n",
       "    <tr>\n",
       "      <th>...</th>\n",
       "      <td>...</td>\n",
       "      <td>...</td>\n",
       "      <td>...</td>\n",
       "      <td>...</td>\n",
       "      <td>...</td>\n",
       "      <td>...</td>\n",
       "      <td>...</td>\n",
       "      <td>...</td>\n",
       "      <td>...</td>\n",
       "      <td>...</td>\n",
       "      <td>...</td>\n",
       "      <td>...</td>\n",
       "      <td>...</td>\n",
       "      <td>...</td>\n",
       "      <td>...</td>\n",
       "    </tr>\n",
       "    <tr>\n",
       "      <th>886</th>\n",
       "      <td>0</td>\n",
       "      <td>2</td>\n",
       "      <td>male</td>\n",
       "      <td>27.0</td>\n",
       "      <td>0</td>\n",
       "      <td>0</td>\n",
       "      <td>13.0000</td>\n",
       "      <td>S</td>\n",
       "      <td>Second</td>\n",
       "      <td>man</td>\n",
       "      <td>True</td>\n",
       "      <td>NaN</td>\n",
       "      <td>Southampton</td>\n",
       "      <td>no</td>\n",
       "      <td>True</td>\n",
       "    </tr>\n",
       "    <tr>\n",
       "      <th>887</th>\n",
       "      <td>1</td>\n",
       "      <td>1</td>\n",
       "      <td>female</td>\n",
       "      <td>19.0</td>\n",
       "      <td>0</td>\n",
       "      <td>0</td>\n",
       "      <td>30.0000</td>\n",
       "      <td>S</td>\n",
       "      <td>First</td>\n",
       "      <td>woman</td>\n",
       "      <td>False</td>\n",
       "      <td>B</td>\n",
       "      <td>Southampton</td>\n",
       "      <td>yes</td>\n",
       "      <td>True</td>\n",
       "    </tr>\n",
       "    <tr>\n",
       "      <th>888</th>\n",
       "      <td>0</td>\n",
       "      <td>3</td>\n",
       "      <td>female</td>\n",
       "      <td>NaN</td>\n",
       "      <td>1</td>\n",
       "      <td>2</td>\n",
       "      <td>23.4500</td>\n",
       "      <td>S</td>\n",
       "      <td>Third</td>\n",
       "      <td>woman</td>\n",
       "      <td>False</td>\n",
       "      <td>NaN</td>\n",
       "      <td>Southampton</td>\n",
       "      <td>no</td>\n",
       "      <td>False</td>\n",
       "    </tr>\n",
       "    <tr>\n",
       "      <th>889</th>\n",
       "      <td>1</td>\n",
       "      <td>1</td>\n",
       "      <td>male</td>\n",
       "      <td>26.0</td>\n",
       "      <td>0</td>\n",
       "      <td>0</td>\n",
       "      <td>30.0000</td>\n",
       "      <td>C</td>\n",
       "      <td>First</td>\n",
       "      <td>man</td>\n",
       "      <td>True</td>\n",
       "      <td>C</td>\n",
       "      <td>Cherbourg</td>\n",
       "      <td>yes</td>\n",
       "      <td>True</td>\n",
       "    </tr>\n",
       "    <tr>\n",
       "      <th>890</th>\n",
       "      <td>0</td>\n",
       "      <td>3</td>\n",
       "      <td>male</td>\n",
       "      <td>32.0</td>\n",
       "      <td>0</td>\n",
       "      <td>0</td>\n",
       "      <td>7.7500</td>\n",
       "      <td>Q</td>\n",
       "      <td>Third</td>\n",
       "      <td>man</td>\n",
       "      <td>True</td>\n",
       "      <td>NaN</td>\n",
       "      <td>Queenstown</td>\n",
       "      <td>no</td>\n",
       "      <td>True</td>\n",
       "    </tr>\n",
       "  </tbody>\n",
       "</table>\n",
       "<p>891 rows × 15 columns</p>\n",
       "</div>"
      ],
      "text/plain": [
       "     survived  pclass     sex   age  sibsp  parch     fare embarked   class  \\\n",
       "0           0       3    male  22.0      1      0   7.2500        S   Third   \n",
       "1           1       1  female  38.0      1      0  71.2833        C   First   \n",
       "2           1       3  female  26.0      0      0   7.9250        S   Third   \n",
       "3           1       1  female  35.0      1      0  53.1000        S   First   \n",
       "4           0       3    male  35.0      0      0   8.0500        S   Third   \n",
       "..        ...     ...     ...   ...    ...    ...      ...      ...     ...   \n",
       "886         0       2    male  27.0      0      0  13.0000        S  Second   \n",
       "887         1       1  female  19.0      0      0  30.0000        S   First   \n",
       "888         0       3  female   NaN      1      2  23.4500        S   Third   \n",
       "889         1       1    male  26.0      0      0  30.0000        C   First   \n",
       "890         0       3    male  32.0      0      0   7.7500        Q   Third   \n",
       "\n",
       "       who  adult_male deck  embark_town alive  alone  \n",
       "0      man        True  NaN  Southampton    no  False  \n",
       "1    woman       False    C    Cherbourg   yes  False  \n",
       "2    woman       False  NaN  Southampton   yes   True  \n",
       "3    woman       False    C  Southampton   yes  False  \n",
       "4      man        True  NaN  Southampton    no   True  \n",
       "..     ...         ...  ...          ...   ...    ...  \n",
       "886    man        True  NaN  Southampton    no   True  \n",
       "887  woman       False    B  Southampton   yes   True  \n",
       "888  woman       False  NaN  Southampton    no  False  \n",
       "889    man        True    C    Cherbourg   yes   True  \n",
       "890    man        True  NaN   Queenstown    no   True  \n",
       "\n",
       "[891 rows x 15 columns]"
      ]
     },
     "execution_count": 3,
     "metadata": {},
     "output_type": "execute_result"
    }
   ],
   "source": [
    "t_df"
   ]
  },
  {
   "cell_type": "code",
   "execution_count": 10,
   "id": "a9955d0a-6a84-4169-82a8-826d7e98a463",
   "metadata": {},
   "outputs": [
    {
     "data": {
      "text/plain": [
       "29.0"
      ]
     },
     "execution_count": 10,
     "metadata": {},
     "output_type": "execute_result"
    }
   ],
   "source": [
    "t_df.age.tail(3).mean()"
   ]
  },
  {
   "cell_type": "code",
   "execution_count": 11,
   "id": "39df9287-54ca-4f63-9319-9f950f83ca79",
   "metadata": {},
   "outputs": [
    {
     "data": {
      "text/plain": [
       "888     NaN\n",
       "889    26.0\n",
       "890    32.0\n",
       "Name: age, dtype: float64"
      ]
     },
     "execution_count": 11,
     "metadata": {},
     "output_type": "execute_result"
    }
   ],
   "source": [
    "t_df.age.tail(3)"
   ]
  },
  {
   "cell_type": "code",
   "execution_count": null,
   "id": "139df9ed-b2d2-4b7e-8cbd-1e046d519cf9",
   "metadata": {},
   "outputs": [],
   "source": []
  }
 ],
 "metadata": {
  "kernelspec": {
   "display_name": "Python 3 (ipykernel)",
   "language": "python",
   "name": "python3"
  },
  "language_info": {
   "codemirror_mode": {
    "name": "ipython",
    "version": 3
   },
   "file_extension": ".py",
   "mimetype": "text/x-python",
   "name": "python",
   "nbconvert_exporter": "python",
   "pygments_lexer": "ipython3",
   "version": "3.10.11"
  }
 },
 "nbformat": 4,
 "nbformat_minor": 5
}
